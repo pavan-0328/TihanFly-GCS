{
 "cells": [
  {
   "cell_type": "markdown",
   "metadata": {},
   "source": [
    "# Computational applications of Matrix Theory"
   ]
  },
  {
   "cell_type": "markdown",
   "metadata": {},
   "source": [
    "### <span style=\"color:blue\"> Module III:??</span>"
   ]
  },
  {
   "cell_type": "markdown",
   "metadata": {},
   "source": [
    "### Readings for this topic\n",
    "\n",
    " * Revise lecture notes 2-7"
   ]
  },
  {
   "cell_type": "markdown",
   "metadata": {},
   "source": [
    "[Link to this document's Jupyter Notebook](04-Gauss_Jordan_in-class-assignment.ipynb)?"
   ]
  },
  {
   "cell_type": "markdown",
   "metadata": {},
   "source": [
    "### Goals for today's pre-class assignment \n",
    "\n",
    "1. [Sympy RREF function](#Sympy-RREF-function)\n",
    "2. [Calculating Vector Length, Normalization, Distance and Dot](#Calculating-Vector-Length,-Normalization,-Distance-and-Dot)\n",
    "3. [Vector spaces in $\\mathbb{C}_n$](#Vector-spaces-in-Rn)\n",
    "4. [Basis Vectors](#Basis_Vectors)\n",
    "5. [Lots of Things Can Be Vector Spaces](#Examples)\n",
    "6. [Introduction to subspaces](#Introduction-to-subspaces)\n",
    "7. [(30 minutes) Matrix Representation of Vector Spaces](#Matrix_Representation_of_Vector_Spaces)\n",
    "8. [Properties of Invertible Matrices](#Properties_of_invertible_Matrices)\n",
    "9.  [The Basis of a Vector Space](#The_Basis_of_a_Vector_Space)\n",
    "10.   [Change of Basis](#Change_of_Basis)\n",
    "1. [Assignment Wrap-up](#Assignment_Wrap-up)"
   ]
  },
  {
   "cell_type": "code",
   "execution_count": 3,
   "metadata": {},
   "outputs": [],
   "source": [
    "# Here are some libraries you may need to use\n",
    "%matplotlib inline\n",
    "import matplotlib.pylab as plt\n",
    "import numpy as np\n",
    "import sympy as sym\n",
    "import math\n",
    "sym.init_printing()"
   ]
  },
  {
   "cell_type": "markdown",
   "metadata": {},
   "source": [
    "\n",
    "\n",
    "---\n",
    "<a name=Solving-Systems-of-Linear-Equations></a>\n",
    "## A1. Solving Systems of Linear Equations\n",
    "\n",
    "\n",
    "Remember the following set of equations from the mass weight example:\n",
    "\n",
    "<img src=\"https://lh4.googleusercontent.com/48AcnVEBkzXJ_heu4fR0DbP5BBunyRlzPsTeK8WSBsMTSjZ5QNhdhtnVsdAw7wD0NBITIiSmh9Jn0gTPABkxqDa-LrhRicZGdpfbYakgWjJetZfOPk636Eu-vjmj=w740\" align=\"center\" width=\"70%\" alt=\"Image showing two balanced beams, each with three weights. In the top beam is unknown weight A is a distance of 40 to the left of the fulcrum, unknown weight B is a distance of 15 to the left of the fulcrum and a weight of 2 is 50 to the right of the fulcrum. In the bottom beam is the same unknown weights.  Weight A is now a distance of 50 to the right of the fulcrum, weight B is a distance of 25 to the left of the fulcrum and the weight of 2 is a distance of 25 to the right of the fulcrum.\">\n",
    "$$40A + 15B = 100$$\n",
    "$$25B = 50 + 50A$$\n"
   ]
  },
  {
   "cell_type": "markdown",
   "metadata": {},
   "source": [
    "As you know, the above system of equations can be written as an Augmented Matrix in the following form:\n",
    "\n",
    "\n",
    "$$ \n",
    "\\left[\n",
    "\\begin{matrix}\n",
    "    40  & 15  \\\\\n",
    "    -50 & 25  \n",
    " \\end{matrix}\n",
    "\\, \\middle\\vert \\,\n",
    "\\begin{matrix}\n",
    "100 \\\\ 50 \n",
    "\\end{matrix}\n",
    "\\right] \n",
    "$$\n",
    "\n"
   ]
  },
  {
   "cell_type": "markdown",
   "metadata": {},
   "source": [
    "&#9989; **<font color=red>QUESTION:</font>**  Split apart the augmented matrix  ($ \n",
    "\\left[\n",
    "\\begin{matrix}\n",
    "    A\n",
    " \\end{matrix}\n",
    "\\, \\middle\\vert \\,\n",
    "\\begin{matrix}\n",
    "b\n",
    "\\end{matrix}\n",
    "\\right] \n",
    "$) into it's left size ($2 \\times 2$) matrix $A$ and it's right ($2x1$) matrix $b$. Define the matrices $A$ and $b$ as ```numpy``` matrices:"
   ]
  },
  {
   "cell_type": "code",
   "execution_count": 4,
   "metadata": {},
   "outputs": [],
   "source": [
    "#Put your code here\n",
    "A = np.array([[40,15],\n",
    "              [-50,25]])\n",
    "b = np.array([[100],[50]])\n"
   ]
  },
  {
   "cell_type": "code",
   "execution_count": 5,
   "metadata": {},
   "outputs": [
    {
     "name": "stdout",
     "output_type": "stream",
     "text": [
      "\n",
      "CheckWarning: passed variable is <class 'numpy.ndarray'> and not a numpy.matrix...\n",
      "    Trying to convert to a array matrix using ```A = np.matrix(A)```.\n",
      "\n",
      "\n",
      "CheckWarning: passed matrix is int64 and not <class 'numpy.float64'>...\n",
      "    Trying to convert to float using ```A = A.astype(float)```.\n",
      "\n",
      "Testing [[ 40.  15.]\n",
      " [-50.  25.]]\n",
      "Answer seems to be correct\n",
      "\n"
     ]
    }
   ],
   "source": [
    "from answercheck import checkanswer\n",
    "\n",
    "checkanswer.matrix(A,'f5bfd7c52824d5ac580d0ce1ab98fe68');"
   ]
  },
  {
   "cell_type": "code",
   "execution_count": 6,
   "metadata": {},
   "outputs": [
    {
     "name": "stdout",
     "output_type": "stream",
     "text": [
      "\n",
      "CheckWarning: passed variable is <class 'numpy.ndarray'> and not a numpy.matrix...\n",
      "    Trying to convert to a array matrix using ```A = np.matrix(A)```.\n",
      "\n",
      "\n",
      "CheckWarning: passed matrix is int64 and not <class 'numpy.float64'>...\n",
      "    Trying to convert to float using ```A = A.astype(float)```.\n",
      "\n",
      "Testing [[100.]\n",
      " [ 50.]]\n",
      "Answer seems to be correct\n",
      "\n"
     ]
    }
   ],
   "source": [
    "from answercheck import checkanswer\n",
    "\n",
    "checkanswer.matrix(b,'c760cd470439f5db82bb165edf4dc3f8');"
   ]
  },
  {
   "cell_type": "markdown",
   "metadata": {},
   "source": [
    "&#9989; **<font color=red>QUESTION:</font>**  solve the above system of equations using the ```np.linalg.solve``` function and store the value in a vector named x:"
   ]
  },
  {
   "cell_type": "code",
   "execution_count": 7,
   "metadata": {},
   "outputs": [],
   "source": [
    "# Put your code to the above question here\n",
    "x = np.linalg.solve(A,b)"
   ]
  },
  {
   "cell_type": "code",
   "execution_count": 8,
   "metadata": {},
   "outputs": [
    {
     "name": "stdout",
     "output_type": "stream",
     "text": [
      "\n",
      "CheckWarning: passed variable is <class 'numpy.ndarray'> and not a numpy.matrix.\n",
      "    Trying to convert to a array matrix using ```A = np.matrix(A)```.\n",
      "\n",
      "\n",
      "CheckWarning: numpy.matrix is row vector...\n",
      "    Trying to convert to a column vector using ```A = A.T```.\n",
      "\n",
      "Testing [[1. 4.]]\n",
      "Answer seems to be correct\n",
      "\n"
     ]
    }
   ],
   "source": [
    "from answercheck import checkanswer\n",
    "\n",
    "checkanswer.vector(x,'fc02fe6d0577c4452ee70252e1e17654');"
   ]
  },
  {
   "cell_type": "markdown",
   "metadata": {},
   "source": [
    "\n",
    "\n",
    "---\n",
    "<a name=Underdetermined-Systems></a>\n",
    "## A2. Underdetermined Systems\n",
    "\n",
    "\n",
    "\n",
    "\n",
    "Sometimes we have systems of linear equations where we have more unknowns than equations, in this case we call the system \"underdetermined.\" These types of systems can have infinite solutions.  i.e., we can not find an unique $x$ such that $Ax=b$. In this case, we can find a set of equations that represent all of the solutions that solve the problem by using Gauss Jordan and the Reduced Row Echelon form. Lets consider the following example:\n",
    "\n",
    "\n",
    "$$\\begin{bmatrix}5&-2&2 & 1 \\\\ 4 & -3 &4 &2  \\\\ 4& -6 &7  & 4\\end{bmatrix}\\begin{bmatrix}x_1\\\\x_2\\\\x_3\\\\x_4\\end{bmatrix}=\\begin{bmatrix}1\\\\2\\\\3\\end{bmatrix}$$\n",
    "\n",
    "\n",
    "\n",
    "&#9989; **<font color=red>QUESTION</font>** Define an augmented matrix $M$ that represents the above system of equations:"
   ]
  },
  {
   "cell_type": "code",
   "execution_count": 9,
   "metadata": {},
   "outputs": [],
   "source": [
    "#Put your code here\n",
    "M = np.array([\n",
    "              [5 ,-2, 2, 1, 1],\n",
    "              [4 ,-3, 4, 2, 2],\n",
    "              [4, -6, 7, 4, 3]\n",
    "            ])"
   ]
  },
  {
   "cell_type": "code",
   "execution_count": 10,
   "metadata": {},
   "outputs": [
    {
     "name": "stdout",
     "output_type": "stream",
     "text": [
      "\n",
      "CheckWarning: passed variable is <class 'numpy.ndarray'> and not a numpy.matrix...\n",
      "    Trying to convert to a array matrix using ```A = np.matrix(A)```.\n",
      "\n",
      "\n",
      "CheckWarning: passed matrix is int64 and not <class 'numpy.float64'>...\n",
      "    Trying to convert to float using ```A = A.astype(float)```.\n",
      "\n",
      "Testing [[ 5. -2.  2.  1.  1.]\n",
      " [ 4. -3.  4.  2.  2.]\n",
      " [ 4. -6.  7.  4.  3.]]\n",
      "Answer seems to be correct\n",
      "\n"
     ]
    }
   ],
   "source": [
    "from answercheck import checkanswer\n",
    "\n",
    "checkanswer.matrix(M,'efb9b2da0e44984a18f595d7892980e2');"
   ]
  },
  {
   "cell_type": "markdown",
   "metadata": {},
   "source": [
    "&#9989; **<font color=red>QUESTION</font>** What is the Reduced Row Echelon form for A?"
   ]
  },
  {
   "cell_type": "code",
   "execution_count": 11,
   "metadata": {},
   "outputs": [],
   "source": [
    "# Put your answer to the above question here\n",
    "A  = sym.Matrix(M)\n",
    "RREF,pivote  = A.rref()"
   ]
  },
  {
   "cell_type": "code",
   "execution_count": 12,
   "metadata": {},
   "outputs": [
    {
     "name": "stdout",
     "output_type": "stream",
     "text": [
      "\n",
      "CheckWarning: passed variable is <class 'sympy.matrices.dense.MutableDenseMatrix'> and not a numpy.matrix...\n",
      "    Trying to convert to a array matrix using ```A = np.matrix(A)```.\n",
      "\n",
      "\n",
      "CheckWarning: passed matrix is object and not <class 'numpy.float64'>...\n",
      "    Trying to convert to float using ```A = A.astype(float)```.\n",
      "\n",
      "\n",
      "CheckWarning: Matrix contains negative values for zero...\n",
      "    Converting to positive values of zero using  ```A[A==-0] = 0```.\n",
      "\n",
      "Testing [[ 1.       0.       0.      -0.06667  0.06667]\n",
      " [ 0.       1.       0.      -0.4      0.4    ]\n",
      " [ 0.       0.       1.       0.26667  0.73333]]\n",
      "Answer seems to be correct\n",
      "\n"
     ]
    }
   ],
   "source": [
    "from answercheck import checkanswer\n",
    "\n",
    "checkanswer.matrix(RREF,'f1fa8baac1df4c378db20cff9e91ca5b');"
   ]
  },
  {
   "cell_type": "markdown",
   "metadata": {},
   "source": [
    "Notice how the above RREF form of matrix A is different from what we have seen in the past.  In this case not all of our values for $x$ are unique. When we write down a solution to this problem by defining the variables by one or more of the undefined variables.  for example, here we can see that $x_4$ is undefined.  So we say $x_4 = x_4$, i.e. $x_4$ can be any number we want.  Then we can define $x_3$ in terms of $x_4$.  In this case $x_3 = \\frac{11}{15} - \\frac{4}{15}x_4$.  The entire solution can be written out as follows:\n",
    "\n",
    "$$\n",
    "\\begin{align*} \n",
    "x_1 &= \\frac{1}{15} + \\frac{1}{15}x_4 \\\\\n",
    "x_2 &= \\frac{2}{5} + \\frac{2}{5}x_4 \\\\\n",
    "x_3 &= \\frac{11}{15} - \\frac{4}{15}x_4 \\\\\n",
    "x_4 &= x_4 \n",
    "\\end{align*}\n",
    "$$"
   ]
  },
  {
   "cell_type": "markdown",
   "metadata": {},
   "source": [
    "&#9989; **<font color=red>DO THIS</font>** Review the above answer and make sure you understand how we get this answer from the Reduced Row Echelon form from above. "
   ]
  },
  {
   "cell_type": "markdown",
   "metadata": {},
   "source": [
    "Sometimes, in an effort to make the solution more clear, we introduce new variables (typically, $r,s,t$) and substitute them in for our undefined variables so the solution would look like the following:\n",
    "\n",
    "\n",
    "$$\n",
    "\\begin{align*} \n",
    "x_1 &= \\frac{1}{15} + \\frac{1}{15}r \\\\\n",
    "x_2 &= \\frac{2}{5} + \\frac{2}{5}r \\\\\n",
    "x_3 &= \\frac{11}{15} - \\frac{4}{15}r \\\\\n",
    "x_4 &= r \n",
    "\\end{align*}\n",
    "$$"
   ]
  },
  {
   "cell_type": "markdown",
   "metadata": {},
   "source": [
    "We can find a particular solution to the above problem by inputing any number for $r$.  For example, set r equal to zero and create a vector for all of the $x$ values.\n",
    "\n",
    "\n",
    "$$\n",
    "\\begin{align*} \n",
    "x_1 &= \\frac{1}{15}\\\\\n",
    "x_2 &= \\frac{2}{5}\\\\\n",
    "x_3 &= \\frac{11}{15}  \\\\\n",
    "x_4 &= 0\n",
    "\\end{align*}\n",
    "$$"
   ]
  },
  {
   "cell_type": "code",
   "execution_count": 13,
   "metadata": {},
   "outputs": [
    {
     "data": {
      "text/plain": [
       "matrix([[0.06666667],\n",
       "        [0.4       ],\n",
       "        [0.73333333],\n",
       "        [0.        ]])"
      ]
     },
     "execution_count": 13,
     "metadata": {},
     "output_type": "execute_result"
    }
   ],
   "source": [
    "##here is the same basic math in python\n",
    "\n",
    "r = 0\n",
    "x = np.matrix([1/15+1/15*r, 2/5+2/5*r, 11/15-4/15*r, r]).T\n",
    "x"
   ]
  },
  {
   "cell_type": "markdown",
   "metadata": {},
   "source": [
    "&#9989; **<font color=red>DO THIS</font>** Define two more matrixes $A$, $b$ representing the above system of equations $Ax=b$:"
   ]
  },
  {
   "cell_type": "code",
   "execution_count": 14,
   "metadata": {},
   "outputs": [],
   "source": [
    "# put your answer to the above question here.\n",
    "A = np.matrix(\n",
    "    [\n",
    "        [1, 0, 0,-1/15],\n",
    "        [0, 1, 0,-2/5],\n",
    "        [0, 0, 1, 4/15],\n",
    "        [0, 0, 0, 1]\n",
    "    ]\n",
    ")\n",
    "\n",
    "b = np.matrix([1/15,2/5,11/15,r]).T"
   ]
  },
  {
   "cell_type": "code",
   "execution_count": 15,
   "metadata": {},
   "outputs": [
    {
     "name": "stdout",
     "output_type": "stream",
     "text": [
      "\n",
      "CheckWarning: Matrix contains negative values for zero...\n",
      "    Converting to positive values of zero using  ```A[A==-0] = 0```.\n",
      "\n",
      "Testing [[ 1.       0.       0.      -0.06667]\n",
      " [ 0.       1.       0.      -0.4    ]\n",
      " [ 0.       0.       1.       0.26667]\n",
      " [ 0.       0.       0.       1.     ]]\n",
      "Answer seems to be incorrect\n",
      "\n"
     ]
    },
    {
     "ename": "AssertionError",
     "evalue": "Answer is incorrect 970c457cd2ffb65d12fb98f60f78ebf9",
     "output_type": "error",
     "traceback": [
      "\u001b[0;31m---------------------------------------------------------------------------\u001b[0m",
      "\u001b[0;31mAssertionError\u001b[0m                            Traceback (most recent call last)",
      "Cell \u001b[0;32mIn[15], line 3\u001b[0m\n\u001b[1;32m      1\u001b[0m \u001b[38;5;28;01mfrom\u001b[39;00m \u001b[38;5;21;01manswercheck\u001b[39;00m \u001b[38;5;28;01mimport\u001b[39;00m checkanswer\n\u001b[0;32m----> 3\u001b[0m \u001b[43mcheckanswer\u001b[49m\u001b[38;5;241;43m.\u001b[39;49m\u001b[43mmatrix\u001b[49m\u001b[43m(\u001b[49m\u001b[43mA\u001b[49m\u001b[43m,\u001b[49m\u001b[38;5;124;43m'\u001b[39;49m\u001b[38;5;124;43ma600d0416a3fb9b4bde87b08caf068f1\u001b[39;49m\u001b[38;5;124;43m'\u001b[39;49m\u001b[43m)\u001b[49m;\n",
      "File \u001b[0;32m~/Documents/Matrix Assignment /answercheck.py:152\u001b[0m, in \u001b[0;36mcheckanswer.matrix\u001b[0;34m(A, hashtag, decimal_accuracy)\u001b[0m\n\u001b[1;32m    150\u001b[0m \u001b[38;5;250m\u001b[39m\u001b[38;5;124;03m\"\"\"Function to check matrix type before hashing.\"\"\"\u001b[39;00m\n\u001b[1;32m    151\u001b[0m A \u001b[38;5;241m=\u001b[39m checkanswer\u001b[38;5;241m.\u001b[39mmake_matrix(A, decimal_accuracy)\n\u001b[0;32m--> 152\u001b[0m \u001b[38;5;28;01mreturn\u001b[39;00m \u001b[43mcheckanswer\u001b[49m\u001b[38;5;241;43m.\u001b[39;49m\u001b[43mbasic\u001b[49m\u001b[43m(\u001b[49m\u001b[43mA\u001b[49m\u001b[43m,\u001b[49m\u001b[43m \u001b[49m\u001b[43mhashtag\u001b[49m\u001b[43m)\u001b[49m\n",
      "File \u001b[0;32m~/Documents/Matrix Assignment /answercheck.py:50\u001b[0m, in \u001b[0;36mcheckanswer.basic\u001b[0;34m(var, hashtag)\u001b[0m\n\u001b[1;32m     48\u001b[0m     \u001b[38;5;28;01melse\u001b[39;00m:\n\u001b[1;32m     49\u001b[0m         \u001b[38;5;28mprint\u001b[39m(\u001b[38;5;124m\"\u001b[39m\u001b[38;5;124mAnswer seems to be incorrect\u001b[39m\u001b[38;5;130;01m\\n\u001b[39;00m\u001b[38;5;124m\"\u001b[39m)\n\u001b[0;32m---> 50\u001b[0m         \u001b[38;5;28;01massert\u001b[39;00m checktag \u001b[38;5;241m==\u001b[39m hashtag, \u001b[38;5;124mf\u001b[39m\u001b[38;5;124m\"\u001b[39m\u001b[38;5;124mAnswer is incorrect \u001b[39m\u001b[38;5;132;01m{\u001b[39;00mchecktag\u001b[38;5;132;01m}\u001b[39;00m\u001b[38;5;124m\"\u001b[39m\n\u001b[1;32m     51\u001b[0m \u001b[38;5;28;01melse\u001b[39;00m:\n\u001b[1;32m     52\u001b[0m     \u001b[38;5;28;01mraise\u001b[39;00m \u001b[38;5;167;01mTypeError\u001b[39;00m(\u001b[38;5;124mf\u001b[39m\u001b[38;5;124m\"\u001b[39m\u001b[38;5;124mNo answer hastag provided: \u001b[39m\u001b[38;5;132;01m{\u001b[39;00mchecktag\u001b[38;5;132;01m}\u001b[39;00m\u001b[38;5;124m\"\u001b[39m)\n",
      "\u001b[0;31mAssertionError\u001b[0m: Answer is incorrect 970c457cd2ffb65d12fb98f60f78ebf9"
     ]
    }
   ],
   "source": [
    "from answercheck import checkanswer\n",
    "\n",
    "checkanswer.matrix(A,'a600d0416a3fb9b4bde87b08caf068f1');"
   ]
  },
  {
   "cell_type": "code",
   "execution_count": null,
   "metadata": {},
   "outputs": [],
   "source": [
    "from answercheck import checkanswer\n",
    "\n",
    "checkanswer.vector(b,'4cfaa788e4dd6de04fdf6aea4a0e0e71');"
   ]
  },
  {
   "cell_type": "markdown",
   "metadata": {},
   "source": [
    "Now let us check our answer by multipying matrix $A$ by our solution $x$ and see if we get $b$"
   ]
  },
  {
   "cell_type": "code",
   "execution_count": null,
   "metadata": {},
   "outputs": [],
   "source": [
    "np.allclose(A*x,b)"
   ]
  },
  {
   "cell_type": "markdown",
   "metadata": {},
   "source": [
    "&#9989; **<font color=red>DO THIS</font>** Now go back and pick a different value for $r$ and see that it also produces a valid solution for $Ax=b$."
   ]
  },
  {
   "cell_type": "code",
   "execution_count": null,
   "metadata": {},
   "outputs": [],
   "source": [
    "r = 5\n",
    "x = np.matrix([1/15+1/15*r, 2/5+2/5*r, 11/15-4/15*r, r]).T\n",
    "x"
   ]
  },
  {
   "cell_type": "code",
   "execution_count": null,
   "metadata": {},
   "outputs": [],
   "source": [
    "A = np.matrix(\n",
    "    [\n",
    "        [1, 0, 0,-1/15],\n",
    "        [0, 1, 0,-2/5],\n",
    "        [0, 0, 1, 4/15],\n",
    "        [0, 0, 0, 1]\n",
    "    ]\n",
    ")\n",
    "\n",
    "b = np.matrix([1/15,2/5,11/15,r]).T\n"
   ]
  },
  {
   "cell_type": "code",
   "execution_count": null,
   "metadata": {},
   "outputs": [],
   "source": [
    "np.allclose(A*x,b)"
   ]
  },
  {
   "cell_type": "markdown",
   "metadata": {},
   "source": [
    "\n",
    "---\n",
    "<a name=Practice---Curve-Fitting-Example></a>\n",
    "## A3. Practice   Curve Fitting Example\n",
    "\n",
    "Consider the following polynomial with constant scalars $a$, $b$, and $c$, that falls on the $xy$-plane:\n",
    "\n",
    "$$f(x) = ax^2 + bx + c$$\n"
   ]
  },
  {
   "cell_type": "markdown",
   "metadata": {},
   "source": [
    "&#9989; **<font color=red>QUESTION:</font>**  Is this function linear? Why or why not?"
   ]
  },
  {
   "cell_type": "markdown",
   "metadata": {},
   "source": [
    "Put your answer to the above question here.\n",
    "The Function is linear if\n",
    "\n",
    "$\n",
    "    1. f(x+y) = f(x) + f(y)\n",
    "$\n",
    "\n",
    "$\n",
    "    2. f(ax) = af(x)\n",
    "$\n",
    "There fore $$f(x) = ax^2 + bx + c$$ is not linear"
   ]
  },
  {
   "cell_type": "markdown",
   "metadata": {},
   "source": [
    "Assume that we do not know the values of $a$, $b$ and $c$, but we do know that the points (1,2), (-1,12), and (2,3) are on the polynomial. We can substitute the known points into the equation above. For example, using point (1,2) we get the following equation:\n",
    "\n",
    "$$2 = a1^2 + b1 + c$$\n",
    "$$\\text{or}$$\n",
    "$$2 = a + b + c$$\n",
    "\n",
    "&#9989; **<font color=red>QUESTION:</font>**  Generate two more equations by substituting points (-1,12) and (2,3) into the above equation:"
   ]
  },
  {
   "cell_type": "markdown",
   "metadata": {},
   "source": [
    "&#9989; **<font color=red>Answer:</font>** \n",
    "1. $ a-b+c = 12 $\n",
    "2. $ 4a+2b+c = 3 $ "
   ]
  },
  {
   "cell_type": "markdown",
   "metadata": {},
   "source": [
    "&#9989; **<font color=red>QUESTION:</font>**  If we did this right, we should have three equations and three unknowns ($a,b,c$).  Note also that these equations are linear (how did that happen?).  Transform this system of equations into two matrices $A$ and $b$ like we did above."
   ]
  },
  {
   "cell_type": "markdown",
   "metadata": {},
   "source": [
    "&#9989; **<font color=red>Answer:</font>**"
   ]
  },
  {
   "cell_type": "code",
   "execution_count": null,
   "metadata": {},
   "outputs": [],
   "source": [
    "A = np.matrix(\n",
    "    [\n",
    "        [1, 1, 1],\n",
    "        [1, -1, 1],\n",
    "        [4, 2, 1]\n",
    "    ]\n",
    ")\n",
    "b = np.matrix([2, 12 ,3]).T"
   ]
  },
  {
   "cell_type": "markdown",
   "metadata": {},
   "source": [
    "from answercheck import checkanswer\n",
    "\n",
    "checkanswer.matrix(A,'1896041ded9eebf1cba7e04f32dd1069');"
   ]
  },
  {
   "cell_type": "code",
   "execution_count": null,
   "metadata": {},
   "outputs": [],
   "source": [
    "from answercheck import checkanswer\n",
    "\n",
    "checkanswer.matrix(b,'01e594bb535b4e2f5a04758ff567f918');"
   ]
  },
  {
   "cell_type": "markdown",
   "metadata": {},
   "source": [
    "&#9989; **<font color=red>QUESTION</font>** Write the code to solve for $x$ (i.e., ($a,b,c$)) using ```numpy```."
   ]
  },
  {
   "cell_type": "markdown",
   "metadata": {},
   "source": [
    "&#9989; **<font color=red>Answer:</font>**"
   ]
  },
  {
   "cell_type": "code",
   "execution_count": null,
   "metadata": {},
   "outputs": [],
   "source": [
    "#Put your answer to the above question here.\n",
    "x = np.linalg.solve(A,b)"
   ]
  },
  {
   "cell_type": "code",
   "execution_count": null,
   "metadata": {},
   "outputs": [],
   "source": [
    "from answercheck import checkanswer\n",
    "\n",
    "checkanswer.vector(x,'1dab22f81c2c156e6adca8ea7ee35dd7');"
   ]
  },
  {
   "cell_type": "markdown",
   "metadata": {},
   "source": [
    "&#9989; **<font color=red>QUESTION</font>** Given the value of your ```x``` matrix derived in the previous question, what are the values for $a$, $b$, and $c$?"
   ]
  },
  {
   "cell_type": "code",
   "execution_count": null,
   "metadata": {},
   "outputs": [],
   "source": [
    "#Put your answer to the above question here.\n",
    "a = 2\n",
    "b = -5\n",
    "c = 5"
   ]
  },
  {
   "cell_type": "markdown",
   "metadata": {},
   "source": [
    "Assuming the above is correct, the following code will print your 2nd order polynomial and plot the original points:"
   ]
  },
  {
   "cell_type": "code",
   "execution_count": null,
   "metadata": {},
   "outputs": [],
   "source": [
    "x = np.linspace(-3,3)\n",
    "y = a*x**2 + b*x + c\n",
    "\n",
    "#plot the function. (Transpose is needed to make the data line up).\n",
    "plt.plot(x,y.transpose())\n",
    "\n",
    "#Plot the original points\n",
    "plt.scatter(1, 2)\n",
    "plt.scatter(-1, 12)\n",
    "plt.scatter(2, 3)\n",
    "plt.xlabel('x-axis')\n",
    "plt.ylabel('y-axis')\n"
   ]
  },
  {
   "cell_type": "markdown",
   "metadata": {},
   "source": [
    "&#9989; **<font color=red>QUESTION</font>** The following program is intended to take four points as inputs ($p1, p2, p3, p4 \\in R^2$) and calculate the coefficients $a$, $b$, $c$, and $d$ so that the graph of $f(x) = ax^3 + bx^2 + cx + d$ passes smoothly through the points.  Test the function with the following points (1,2), (-1,6), (2,3), (3,2) as inputs and print the values for $a$, $b$, $c$, and $d$."
   ]
  },
  {
   "cell_type": "code",
   "execution_count": null,
   "metadata": {},
   "outputs": [],
   "source": [
    "def fitPoly3(p1,p2,p3,p4):\n",
    "    A = np.matrix([[p1[0]**3, p1[0]**2, p1[0], 1],\n",
    "                   [p2[0]**3, p2[0]**2, p2[0], 1],\n",
    "                   [p3[0]**3, p3[0]**2, p3[0], 1],\n",
    "                   [p4[0]**3, p4[0]**2, p4[0], 1]])\n",
    "    \n",
    "    b = np.matrix([p1[1],p2[1],p3[1],p4[1]]).T\n",
    "    X = np.linalg.solve(A, b)\n",
    "    a = X[0]\n",
    "    b = X[1]\n",
    "    c = X[2]\n",
    "    d = X[3]\n",
    "    #Try to put your figure generation code here for the next question \n",
    "    #####Start your code here #####\n",
    "    #####End of your code here#####       \n",
    "    return (a,b,c,d)"
   ]
  },
  {
   "cell_type": "code",
   "execution_count": null,
   "metadata": {},
   "outputs": [],
   "source": [
    "#put your answer to the above question here\n",
    "p1,p2,p3,p4 = [1,2],[-1,6],[2,3],[3,2]\n",
    "coef_np = fitPoly3(p1,p2,p3,p4)\n",
    "print(coef_np)"
   ]
  },
  {
   "cell_type": "markdown",
   "metadata": {},
   "source": [
    "&#9989; **<font color=red>QUESTION</font>** Modify the above ```fitpoly3``` function to also generate a figure of the input points and the resulting polynomial in range ```x=(-3,3)```. "
   ]
  },
  {
   "cell_type": "code",
   "execution_count": null,
   "metadata": {},
   "outputs": [],
   "source": [
    "# Put the answer to the above question above or copy and paste the above function and modify it in this cell. \n",
    "def fitPoly3(p1,p2,p3,p4):\n",
    "    A = np.matrix([[p1[0]**3, p1[0]**2, p1[0], 1],\n",
    "                   [p2[0]**3, p2[0]**2, p2[0], 1],\n",
    "                   [p3[0]**3, p3[0]**2, p3[0], 1],\n",
    "                   [p4[0]**3, p4[0]**2, p4[0], 1]])\n",
    "    \n",
    "    b = np.matrix([p1[1],p2[1],p3[1],p4[1]]).T\n",
    "\n",
    "    X = np.linalg.solve(A, b)\n",
    "    a = X[0]\n",
    "    b = X[1]\n",
    "    c = X[2]\n",
    "    d = X[3]\n",
    "    #Try to put your figure generation code here for the next question \n",
    "    #####Start your code here #####\n",
    "    x = np.linspace(-3,3)\n",
    "    y = a*x**3 + b*x**2 + c*x + d \n",
    "    plt.plot(x,y.transpose())\n",
    "    plt.scatter(1,2)\n",
    "    plt.scatter(-1,6)\n",
    "    plt.scatter(2,3)\n",
    "    plt.scatter(3,2)\n",
    "    plt.plot()\n",
    "    #####End of your code here#####       \n",
    "    return (a,b,c,d)\n",
    "fitPoly3(p1,p2,p3,p4)"
   ]
  },
  {
   "cell_type": "markdown",
   "metadata": {},
   "source": [
    "&#9989; **<font color=red>QUESTION</font>** Give any four $R^2$ input points to ```fitPoly3```, is there always a unique solution?  Explain your answer. "
   ]
  },
  {
   "cell_type": "markdown",
   "metadata": {},
   "source": [
    "Put your answer to the above question here."
   ]
  },
  {
   "cell_type": "markdown",
   "metadata": {},
   "source": [
    "The Type of solution depends in the Input points. \n",
    "if the input vectors are dependent then the Soultion of the system of equations will be different "
   ]
  },
  {
   "cell_type": "markdown",
   "metadata": {},
   "source": [
    "# 05 Pre-Class Assignment"
   ]
  },
  {
   "cell_type": "markdown",
   "metadata": {},
   "source": []
  },
  {
   "cell_type": "code",
   "execution_count": null,
   "metadata": {},
   "outputs": [],
   "source": [
    "#  Load Useful Python Libraries \n",
    "%matplotlib inline\n",
    "import matplotlib.pylab as plt\n",
    "import numpy as np\n",
    "import sympy as sym\n",
    "sym.init_printing(use_unicode=True)"
   ]
  },
  {
   "cell_type": "markdown",
   "metadata": {},
   "source": [
    "---\n",
    "<a name=Calculating-Vector-Length,-Normalization,-Distance-and-Dot></a>\n",
    "## B1. Calculating Vector Length, Normalization, Distance and Dot\n",
    "\n",
    "In this section we will cover some of the basic vector math we will use in this course. \n"
   ]
  },
  {
   "cell_type": "markdown",
   "metadata": {},
   "source": [
    "### Vectors:\n",
    "$$(a_1, a_2, \\dots a_n)$$"
   ]
  },
  {
   "cell_type": "markdown",
   "metadata": {},
   "source": [
    "$$(b_1, b_2, \\dots b_n)$$"
   ]
  },
  {
   "cell_type": "markdown",
   "metadata": {},
   "source": [
    "### Length:\n",
    "$$length = \\sqrt{a_1^2 + a_2^2 + \\dots + a_n^2}$$"
   ]
  },
  {
   "cell_type": "markdown",
   "metadata": {},
   "source": [
    "### Normalization:\n",
    "$$\\frac{1}{length}(a_1, a_2, \\dots a_n)$$"
   ]
  },
  {
   "cell_type": "markdown",
   "metadata": {},
   "source": [
    "### Distance:\n",
    "$$distance = \\sqrt{(a_1 - b_1)^2 + (a_2 - b_2)^2 + \\dots + (a_n - b_n)^2}$$"
   ]
  },
  {
   "cell_type": "markdown",
   "metadata": {},
   "source": [
    "&#9989;**<font color=red>QUESTION</font>**:   Calculate length of vector (4.5, 2.6, 3.3, 4.1)?"
   ]
  },
  {
   "cell_type": "code",
   "execution_count": null,
   "metadata": {},
   "outputs": [],
   "source": [
    "#Put your answer to the above question here\n",
    "x = np.matrix([4.5, 2.6, 3.3 , 4.1]).T\n",
    "length = np.linalg.norm(x)"
   ]
  },
  {
   "cell_type": "code",
   "execution_count": null,
   "metadata": {},
   "outputs": [],
   "source": [
    "from answercheck import checkanswer\n",
    "\n",
    "checkanswer.float(length,'695da96d4a240e54bd8c61e75ff5a3e2');"
   ]
  },
  {
   "cell_type": "markdown",
   "metadata": {},
   "source": [
    "&#9989;**<font color=red>QUESTION</font>**: What is a normalized form of the vector (4.5, 2.6, 3.3, 4.1)?"
   ]
  },
  {
   "cell_type": "code",
   "execution_count": null,
   "metadata": {},
   "outputs": [],
   "source": [
    "#Put your answer to the above question here\n",
    "norm = x*(1/length)"
   ]
  },
  {
   "cell_type": "code",
   "execution_count": null,
   "metadata": {},
   "outputs": [],
   "source": [
    "from answercheck import checkanswer\n",
    "\n",
    "checkanswer.vector(norm,'12c94f16ba11222987ca20006790182d');"
   ]
  },
  {
   "cell_type": "markdown",
   "metadata": {},
   "source": [
    "&#9989;**<font color=red>QUESTION</font>**:  What is the distance between (4.5, 2.6, 3.3, 4.1) and (4, 3, 2, 1)?"
   ]
  },
  {
   "cell_type": "code",
   "execution_count": null,
   "metadata": {},
   "outputs": [],
   "source": [
    "#Put your answer to the above question here\n",
    "#len x - y\n",
    "x = np.matrix([4.5,2.6,3.3,4.1]).T\n",
    "y = np.matrix([4,3,2,1]).T\n",
    "distance = np.linalg.norm(x-y)"
   ]
  },
  {
   "cell_type": "code",
   "execution_count": null,
   "metadata": {},
   "outputs": [],
   "source": [
    "from answercheck import checkanswer\n",
    "\n",
    "checkanswer.float(distance,'d73defc9a514eb70434190e1757f5bb8');"
   ]
  },
  {
   "cell_type": "markdown",
   "metadata": {},
   "source": [
    "### Dot Product:\n",
    "\n",
    "\n",
    "$$dot(a,b) = a_1b_1 + a_2b_2 +\\dots + a_nb_n$$\n",
    "\n",
    "\n",
    "\n",
    "\n",
    "&#9989;**<font color=red>DO THIS</font>**:  Review **_Sections 1.4 and 1.5 of the Boyd and Vandenberghe_** text and answer the questions below."
   ]
  },
  {
   "cell_type": "markdown",
   "metadata": {},
   "source": [
    "&#9989;**<font color=red>QUESTION</font>**:   What is the dot product between $u = [ 1, 7, 9, 11]$ and $v = [ 7, 1, 2, 2]$  (Store the information in a variable called ```uv```)?"
   ]
  },
  {
   "cell_type": "code",
   "execution_count": null,
   "metadata": {},
   "outputs": [],
   "source": [
    "#Put your answer to the above question here\n",
    "u = np.array([1,7,9,11])\n",
    "v = np.array([7,1,2,2])\n",
    "#54 \n",
    "uv = np.dot(u,v)\n"
   ]
  },
  {
   "cell_type": "code",
   "execution_count": null,
   "metadata": {},
   "outputs": [],
   "source": [
    "from answercheck import checkanswer\n",
    "\n",
    "checkanswer.float(uv,'48044bf058c2d7d21b311b173a0ca7e5');"
   ]
  },
  {
   "cell_type": "markdown",
   "metadata": {},
   "source": [
    "&#9989;**<font color=red>QUESTION</font>**:  What is the norm of vector $u$ defined above (store this value in a variabled called ```n```)?"
   ]
  },
  {
   "cell_type": "code",
   "execution_count": null,
   "metadata": {},
   "outputs": [],
   "source": [
    "#Put your answer to the above question here\n",
    "n= np.linalg.norm(u)\n"
   ]
  },
  {
   "cell_type": "code",
   "execution_count": null,
   "metadata": {},
   "outputs": [],
   "source": [
    "from answercheck import checkanswer\n",
    "\n",
    "checkanswer.float(n,'96078eb552924d7bdb9e67f9ecab88c1');"
   ]
  },
  {
   "cell_type": "markdown",
   "metadata": {},
   "source": [
    "&#9989;**<font color=red>QUESTION</font>**:  What is the distance between points $u$ and $v$ defined above. (put your answer in a variable named ```d```)"
   ]
  },
  {
   "cell_type": "code",
   "execution_count": null,
   "metadata": {},
   "outputs": [],
   "source": [
    "#Put your answer to the above question here\n",
    "d = np.linalg.norm(u-v)"
   ]
  },
  {
   "cell_type": "code",
   "execution_count": null,
   "metadata": {},
   "outputs": [],
   "source": [
    "from answercheck import checkanswer\n",
    "\n",
    "checkanswer.float(d,'71f49beeb28061bc60eb3d9966497416');"
   ]
  },
  {
   "cell_type": "markdown",
   "metadata": {},
   "source": [
    "\n",
    "\n",
    "---\n",
    "<a name=Vector-spaces-in-Rn></a>\n",
    "## B2. Vector spaces in $\\mathbb{C}^n$\n",
    "\n",
    "\n",
    "There are two properties that define a vector space these are:\n",
    "\n",
    "- Closed under addition\n",
    "- Closed under scalar multiplication \n",
    "\n",
    "For now, we will consider vector spaces in $\\mathbb{C}^n$ which are just vectors of real numbers (ex: [10,20,3.2], [5,8,32], [8,-0.7], etc) where $n$ is just the length of the vector. In the general case a vector can be almost any type of object as long as it maintains the two above properties, we will get into this concept later in the semester. For complex number the above concepts can be described as follows:\n",
    "\n",
    "- Closed under addition means that if we add any two real vectors vectors (i.e. $u,v \\in \\mathbb{C}^n$) then the result is also in $\\mathbb{C}^n$). This is easy to understand if you think about adding any two real vectors there is no way to get a result that is not also a real vector. A way to say this mathematically is as follows:\n",
    "\n",
    "$$\\text{if } u,v \\in \\mathbb{C}^n$$\n",
    "$$\\text{then } u+v \\in \\mathbb{C}^n$$\n",
    "\n",
    "- Closed under scalar multiplication means that if we have any scalar number ($s \\in \\mathbb{C}$) and we multiply it by a real vector ($v \\in \\mathbb{C}^n$) then the result is also a vector in $\\mathbb{C}^n$.  Since multiplying a real number by a real number results in a real number this one is also true. Or we can say it as follows:\n",
    "\n",
    "$$\\text{if } s \\in \\mathbb{C} \\text{ and } v \\in \\mathbb{C}^n$$\n",
    "$$\\text{then } sv \\in \\mathbb{C}^n$$\n",
    "\n",
    "The following are some properties of vector addition and multiplication for vectors $u$ and $v$:\n",
    "\n",
    "1. $u + v = v + u$ Commutative property\n",
    "2. $u + (v + w) = (u + v) + w$ Associative property\n",
    "3. $u+0 = 0 + u = u$ Property of zero vector\n",
    "4. $u + (-u) = 0$ Property of the negative vector\n",
    "5. $c(u+v) = cu + cv$ Distributive properties\n",
    "6. $(c+d)u = cu+du$ Distributive Properties\n",
    "7. $c(du) = (cd)u$ Distributed Properties\n",
    "8. $1u = u$ Scalar multiplication by 1"
   ]
  },
  {
   "cell_type": "markdown",
   "metadata": {},
   "source": [
    "&#9989;**<font color=red>QUESTION</font>**: Compute the following linear combinations for $u = (1,2), v = (4,-1)$, and $w = (-3,5)$.\n",
    "\n",
    "**<font color=red>(a)</font>** $a = u+w$        "
   ]
  },
  {
   "cell_type": "markdown",
   "metadata": {},
   "source": [
    "Put your answer here"
   ]
  },
  {
   "cell_type": "code",
   "execution_count": null,
   "metadata": {},
   "outputs": [],
   "source": [
    "u = np.array([1,2])\n",
    "v = np.array([4,-1])\n",
    "w = np.array([-3,5])\n",
    "a = u + w"
   ]
  },
  {
   "cell_type": "code",
   "execution_count": null,
   "metadata": {},
   "outputs": [],
   "source": [
    "from answercheck import checkanswer\n",
    "\n",
    "checkanswer.vector(a,'af464d466ae982f2cd4461af494e86d6');"
   ]
  },
  {
   "cell_type": "markdown",
   "metadata": {},
   "source": [
    "**<font color=red>(b)</font>** $a = 2u+v$        "
   ]
  },
  {
   "cell_type": "markdown",
   "metadata": {},
   "source": [
    "Put your answer here"
   ]
  },
  {
   "cell_type": "code",
   "execution_count": null,
   "metadata": {},
   "outputs": [],
   "source": [
    "a = 2*u + v"
   ]
  },
  {
   "cell_type": "code",
   "execution_count": null,
   "metadata": {},
   "outputs": [],
   "source": [
    "from answercheck import checkanswer\n",
    "\n",
    "checkanswer.vector(a,'393468eff8c6ba5d27b7d0aa1b18f929');"
   ]
  },
  {
   "cell_type": "markdown",
   "metadata": {},
   "source": [
    "**<font color=red>(c)</font>** $a = u+3w$        "
   ]
  },
  {
   "cell_type": "markdown",
   "metadata": {},
   "source": [
    "Put your answer here"
   ]
  },
  {
   "cell_type": "code",
   "execution_count": null,
   "metadata": {},
   "outputs": [],
   "source": [
    "a = u + 3*w"
   ]
  },
  {
   "cell_type": "code",
   "execution_count": null,
   "metadata": {},
   "outputs": [],
   "source": [
    "from answercheck import checkanswer\n",
    "\n",
    "checkanswer.vector(a,'d5e5ca43a86501bcde09b1cbc0ba49b5');"
   ]
  },
  {
   "cell_type": "markdown",
   "metadata": {},
   "source": [
    "&#9989; <font color=red>**Assignment-Specific QUESTION:**</font> What is the distance between (4.5, 2.6, 3.3, 4.1) and (4, 3, 2, 1)?"
   ]
  },
  {
   "cell_type": "markdown",
   "metadata": {},
   "source": [
    "Put your answer to the above question here"
   ]
  },
  {
   "cell_type": "code",
   "execution_count": null,
   "metadata": {},
   "outputs": [],
   "source": [
    "x = np.array([4.5,2.6,3.3,4.1])\n",
    "y = np.array([4,3,2,1])\n",
    "distance = np.linalg.norm(x-y)\n",
    "distance"
   ]
  },
  {
   "cell_type": "markdown",
   "metadata": {},
   "source": [
    "&#9989; <font color=red>**QUESTION:**</font>  What questions do you have, if any, about any of the topics discussed in this assignment after working through the jupyter notebook?"
   ]
  },
  {
   "cell_type": "markdown",
   "metadata": {},
   "source": [
    "&#9989; <font color=red>**QUESTION:**</font>  What kind of additional questions or support, if any, do you feel you need to have a better understanding of the content in this assignment?"
   ]
  },
  {
   "cell_type": "markdown",
   "metadata": {},
   "source": [
    "# C: Vector Spaces"
   ]
  },
  {
   "cell_type": "markdown",
   "metadata": {},
   "source": [
    "----\n",
    "<a name=\"Basis_Vectors\"></a>\n",
    "## C1. Basis Vectors\n",
    "\n",
    "Below is a really good review of concepts such as: Linear combinatins, span, and basis vectors. "
   ]
  },
  {
   "cell_type": "code",
   "execution_count": null,
   "metadata": {},
   "outputs": [],
   "source": [
    "from IPython.display import YouTubeVideo\n",
    "YouTubeVideo(\"k7RM-ot2NWY\",width=640,height=360, cc_load_policy=True)"
   ]
  },
  {
   "cell_type": "markdown",
   "metadata": {},
   "source": [
    "&#9989; **<font color=red>QUESTION:</font>** What is the **technical definition** of a basis?"
   ]
  },
  {
   "cell_type": "markdown",
   "metadata": {},
   "source": [
    "**Set of linearly independent vectors that span the full space**"
   ]
  },
  {
   "cell_type": "markdown",
   "metadata": {},
   "source": [
    "&#9989; **<font color=red>QUESTION:</font>** Write three basis vectors that span $R^3$.\n"
   ]
  },
  {
   "cell_type": "markdown",
   "metadata": {},
   "source": [
    "1. $ [1,0,0]^T $\n",
    "2. $ [0,1,0]^T $\n",
    "3. $ [0,0,1]^T $"
   ]
  },
  {
   "cell_type": "markdown",
   "metadata": {},
   "source": [
    "From the above video two terms we want you to really understand _**Span**_ and **_Linear Independent_**. Understanding these two will be really important when you think about basis.  Make sure you watch the video and try to answer the following questions as best you can using your own words.  "
   ]
  },
  {
   "cell_type": "markdown",
   "metadata": {},
   "source": [
    "&#9989; **<font color=red>QUESTION:</font>** Describe what it means for vectors to _**Span**_ a space?\n"
   ]
  },
  {
   "cell_type": "markdown",
   "metadata": {},
   "source": [
    "For an set of vectors to **Span** a space they should be able to reprasent every possible vector in the **Space** "
   ]
  },
  {
   "cell_type": "markdown",
   "metadata": {},
   "source": [
    "&#9989; **<font color=red>QUESTION:</font>** What is the span of two vectors that point in the same direction?\n"
   ]
  },
  {
   "cell_type": "markdown",
   "metadata": {},
   "source": [
    "Simple **Straight line** along the direction of the vector's "
   ]
  },
  {
   "cell_type": "markdown",
   "metadata": {},
   "source": [
    "&#9989; **<font color=red>QUESTION:</font>** Can the following vectors span $R^3$? Why?\n",
    "\n",
    "$(1,-2,3),\\quad (-2,4,-6),\\quad (0,6,4)$"
   ]
  },
  {
   "cell_type": "markdown",
   "metadata": {},
   "source": [
    "No, The given vector can't span the $R^3$ space because one of the vectors are **linearly dependent** so it can only span a Sub-space $R^2$ "
   ]
  },
  {
   "cell_type": "markdown",
   "metadata": {},
   "source": [
    "&#9989; **<font color=red>QUESTION:</font>**  Describe what it means for vectors to be _**Linearly Independent**_?"
   ]
  },
  {
   "cell_type": "markdown",
   "metadata": {},
   "source": [
    "$ \\sum\\limits_{i=1} ^{n} c_{i}*x_{i} $\n",
    "\n",
    "$ \\forall x_{i} \\in \\mathbb{R}^n$\n",
    "\n",
    "$ c_{i} =0  \\forall i \\in \\mathbb{N} $"
   ]
  },
  {
   "cell_type": "markdown",
   "metadata": {},
   "source": [
    "If you have vectors that _**span**_ a space AND are _**Linearly Independent**_ then these vectors form a **_Basis_** for that space.  \n",
    "\n",
    "\n",
    "Turns out you can create a matrix by using basis vectors as columns. This matrix can be used to change points from one basis representation to another.  "
   ]
  },
  {
   "cell_type": "markdown",
   "metadata": {},
   "source": [
    "----\n",
    "\n",
    "<a name=\"Vector_Spaces\"></a>\n",
    "## C2.  Vector Spaces\n",
    "\n",
    "Vector spaces are an abstract concept used in math. So far we have talked about vectors of real numbers ($R^n$). However, there are other types of vectors as well.  A vector space is a formal definition. If you can define a concept as a vector space then you can use the tools of linear algebra to work with those concepts.  \n",
    "\n",
    "A **Vector Space** is a set $V$ of elements called **vectors**, having operations of addition and scalar multiplication defined on it that satisfy the following conditions ($u$, $v$, and $w$ are arbitrary elements of $V$, and $c$ and $d$ are scalars.)\n",
    "\n",
    "### Closure Axioms\n",
    "\n",
    "1. The sum $u + v$ exists and is an element of $V$. ($V$ is closed under addition.)\n",
    "2. $cu$ is an element of $V$. ($V$ is closed under multiplication.)\n",
    "\n",
    "### Addition Axioms\n",
    "\n",
    "3. $u + v = v + u$ (commutative property)\n",
    "4. $u + (v + w) = (u + v) + w$ (associative property)\n",
    "5. There exists an element of $V$, called a **zero vector**, denoted $0$, such that $u+0 = u$\n",
    "6. For every element $u$ of $V$, there exists an element called a **negative** of $u$, denoted $-u$, such that $u + (-u) = 0$.\n",
    "\n",
    "### Scalar Multiplication Axioms\n",
    "\n",
    "7. $c(u+v) = cu + cv$\n",
    "8. $(c + d)u = cu + du$\n",
    "9.  $c(du) = (cd)u$\n",
    "10. $1u = u$\n",
    "\n"
   ]
  },
  {
   "cell_type": "markdown",
   "metadata": {},
   "source": [
    "----\n",
    "<a name=\"Examples\"></a>\n",
    "## C3. Lots of Things Can Be Vector Spaces"
   ]
  },
  {
   "cell_type": "code",
   "execution_count": 1,
   "metadata": {},
   "outputs": [
    {
     "data": {
      "image/jpeg": "[encoded data removed]",
      "text/html": [
       "\n",
       "        <iframe\n",
       "            width=\"640\"\n",
       "            height=\"360\"\n",
       "            src=\"https://www.youtube.com/embed/YmGWj9RrNMI?cc_load_policy=True\"\n",
       "            frameborder=\"0\"\n",
       "            allowfullscreen\n",
       "            \n",
       "        ></iframe>\n",
       "        "
      ],
      "text/plain": [
       "<IPython.lib.display.YouTubeVideo at 0x7f9a9c1f6400>"
      ]
     },
     "execution_count": 1,
     "metadata": {},
     "output_type": "execute_result"
    }
   ],
   "source": [
    "from IPython.display import YouTubeVideo\n",
    "YouTubeVideo(\"YmGWj9RrNMI\",width=640,height=360, cc_load_policy=True)"
   ]
  },
  {
   "cell_type": "markdown",
   "metadata": {},
   "source": [
    "Consider the following two matrices $A\\in R^{3x3}$ and $B\\in R^{3x3}$, which consist of real numbers:"
   ]
  },
  {
   "cell_type": "code",
   "execution_count": 2,
   "metadata": {},
   "outputs": [
    {
     "data": {
      "text/latex": [
       "$\\displaystyle \\left[\\begin{matrix}a_{11} & a_{12} & a_{13}\\\\a_{21} & a_{22} & a_{23}\\\\a_{31} & a_{32} & a_{33}\\end{matrix}\\right]$"
      ],
      "text/plain": [
       "⎡a_{11}  a_{12}  a_{13}⎤\n",
       "⎢                      ⎥\n",
       "⎢a_{21}  a_{22}  a_{23}⎥\n",
       "⎢                      ⎥\n",
       "⎣a_{31}  a_{32}  a_{33}⎦"
      ]
     },
     "execution_count": 2,
     "metadata": {},
     "output_type": "execute_result"
    }
   ],
   "source": [
    "%matplotlib inline\n",
    "import matplotlib.pylab as plt\n",
    "import numpy as np\n",
    "import sympy as sym\n",
    "sym.init_printing()\n",
    "\n",
    "a11,a12,a13,a21,a22,a23,a31,a32,a33 = sym.symbols('a_{11},a_{12}, a_{13},a_{21},a_{22},a_{23},a_{31},a_{32},a_{33}', negative=False)\n",
    "A = sym.Matrix([[a11,a12,a13],[a21,a22,a23],[a31,a32,a33]])\n",
    "A"
   ]
  },
  {
   "cell_type": "code",
   "execution_count": 3,
   "metadata": {},
   "outputs": [
    {
     "data": {
      "text/latex": [
       "$\\displaystyle \\left[\\begin{matrix}b_{11} & b_{12} & b_{13}\\\\b_{21} & b_{22} & b_{23}\\\\b_{31} & b_{32} & b_{33}\\end{matrix}\\right]$"
      ],
      "text/plain": [
       "⎡b_{11}  b_{12}  b_{13}⎤\n",
       "⎢                      ⎥\n",
       "⎢b_{21}  b_{22}  b_{23}⎥\n",
       "⎢                      ⎥\n",
       "⎣b_{31}  b_{32}  b_{33}⎦"
      ]
     },
     "execution_count": 3,
     "metadata": {},
     "output_type": "execute_result"
    }
   ],
   "source": [
    "b11,b12,b13,b21,b22,b23,b31,b32,b33 = sym.symbols('b_{11},b_{12}, b_{13},b_{21},b_{22},b_{23},b_{31},b_{32},b_{33}', negative=False)\n",
    "B = sym.Matrix([[b11,b12,b13],[b21,b22,b23],[b31,b32,b33]])\n",
    "B"
   ]
  },
  {
   "cell_type": "markdown",
   "metadata": {},
   "source": [
    "&#9989; **<font color=red>QUESTION:</font>** What properties do we need to show all $3\\times 3$ matrices of real numbers form a vector space. "
   ]
  },
  {
   "cell_type": "markdown",
   "metadata": {},
   "source": [
    "**_Closuer Properties_**\n",
    "1. Closed under Matrix addition i.e. if $u,v \\in \\mathbb{R}^{nXn}$ then $u+v \\in \\mathbb{R}^{nXn}$.\n",
    "2. Closed under scaler Multiplication i.e. if $u \\in \\mathbb{R}^{nXn} $ & $a$ is any scaler the $au \\in \\mathbb{R}^{nXn}$.\n",
    "   \n",
    "**_Addition Properties_**\n",
    "1. $u + v = v + u$.\n",
    "2. $0*u = 0$.\n",
    "3. $u + 0 = u$."
   ]
  },
  {
   "cell_type": "markdown",
   "metadata": {},
   "source": [
    "&#9989; **<font color=red>DO THIS:</font>** Demonstrate these properties using **sympy** as was done in the video. "
   ]
  },
  {
   "cell_type": "code",
   "execution_count": 6,
   "metadata": {},
   "outputs": [
    {
     "data": {
      "text/latex": [
       "$\\displaystyle \\left[\\begin{matrix}a_{11} + b_{11} & a_{12} + b_{12} & a_{13} + b_{13}\\\\a_{21} + b_{21} & a_{22} + b_{22} & a_{23} + b_{23}\\\\a_{31} + b_{31} & a_{32} + b_{32} & a_{33} + b_{33}\\end{matrix}\\right]$"
      ],
      "text/plain": [
       "⎡a_{11} + b_{11}  a_{12} + b_{12}  a_{13} + b_{13}⎤\n",
       "⎢                                                 ⎥\n",
       "⎢a_{21} + b_{21}  a_{22} + b_{22}  a_{23} + b_{23}⎥\n",
       "⎢                                                 ⎥\n",
       "⎣a_{31} + b_{31}  a_{32} + b_{32}  a_{33} + b_{33}⎦"
      ]
     },
     "execution_count": 6,
     "metadata": {},
     "output_type": "execute_result"
    }
   ],
   "source": [
    "#Put your answer here. \n",
    "A+B #Closuer under addition."
   ]
  },
  {
   "cell_type": "code",
   "execution_count": 10,
   "metadata": {},
   "outputs": [
    {
     "data": {
      "text/latex": [
       "$\\displaystyle \\left[\\begin{matrix}a_{11} c & a_{12} c & a_{13} c\\\\a_{21} c & a_{22} c & a_{23} c\\\\a_{31} c & a_{32} c & a_{33} c\\end{matrix}\\right]$"
      ],
      "text/plain": [
       "⎡a_{11}⋅c  a_{12}⋅c  a_{13}⋅c⎤\n",
       "⎢                            ⎥\n",
       "⎢a_{21}⋅c  a_{22}⋅c  a_{23}⋅c⎥\n",
       "⎢                            ⎥\n",
       "⎣a_{31}⋅c  a_{32}⋅c  a_{33}⋅c⎦"
      ]
     },
     "execution_count": 10,
     "metadata": {},
     "output_type": "execute_result"
    }
   ],
   "source": [
    "c = sym.symbols('c')\n",
    "c*A #closed under scaler multiplication."
   ]
  },
  {
   "cell_type": "code",
   "execution_count": 11,
   "metadata": {},
   "outputs": [
    {
     "data": {
      "text/plain": [
       "True"
      ]
     },
     "execution_count": 11,
     "metadata": {},
     "output_type": "execute_result"
    }
   ],
   "source": [
    "A + B == B + A"
   ]
  },
  {
   "cell_type": "code",
   "execution_count": 12,
   "metadata": {},
   "outputs": [
    {
     "data": {
      "text/plain": [
       "True"
      ]
     },
     "execution_count": 12,
     "metadata": {},
     "output_type": "execute_result"
    }
   ],
   "source": [
    "zero = sym.Matrix([\n",
    "    [0,0,0],\n",
    "    [0,0,0],\n",
    "    [0,0,0]\n",
    "])\n",
    "A + zero == A"
   ]
  },
  {
   "cell_type": "code",
   "execution_count": 14,
   "metadata": {},
   "outputs": [
    {
     "data": {
      "text/latex": [
       "$\\displaystyle \\left[\\begin{matrix}0 & 0 & 0\\\\0 & 0 & 0\\\\0 & 0 & 0\\end{matrix}\\right]$"
      ],
      "text/plain": [
       "⎡0  0  0⎤\n",
       "⎢       ⎥\n",
       "⎢0  0  0⎥\n",
       "⎢       ⎥\n",
       "⎣0  0  0⎦"
      ]
     },
     "execution_count": 14,
     "metadata": {},
     "output_type": "execute_result"
    }
   ],
   "source": [
    "A*zero "
   ]
  },
  {
   "cell_type": "markdown",
   "metadata": {},
   "source": [
    "&#9989; **<font color=red>QUESTION :</font>** Determine whether $A$ is a linear combination of $B$, $C$, and $D$?\n",
    "\n",
    "$$ A=\n",
    "\\left[\n",
    "\\begin{matrix}\n",
    "    7 & 6 \\\\\n",
    "    -5 & -3 \n",
    "\\end{matrix}\n",
    "\\right],\n",
    "B=\n",
    "\\left[\n",
    "\\begin{matrix}\n",
    "    3 & 0 \\\\\n",
    "    1 & 1 \n",
    "\\end{matrix}\n",
    "\\right],\n",
    "C=\n",
    "\\left[\n",
    "\\begin{matrix}\n",
    "    0 & 1 \\\\\n",
    "    3 & 4 \n",
    "\\end{matrix}\n",
    "\\right],\n",
    "D=\n",
    "\\left[\n",
    "\\begin{matrix}\n",
    "    1 & 2 \\\\\n",
    "    0 & 1 \n",
    "\\end{matrix}\n",
    "\\right]\n",
    "$$"
   ]
  },
  {
   "cell_type": "code",
   "execution_count": 22,
   "metadata": {},
   "outputs": [
    {
     "data": {
      "text/plain": [
       "matrix([[ 7,  6],\n",
       "        [-5, -3]])"
      ]
     },
     "execution_count": 22,
     "metadata": {},
     "output_type": "execute_result"
    }
   ],
   "source": [
    "#Put your answer to the above question here\n",
    "B = np.matrix([[3,0],[1,1]])\n",
    "C = np.matrix([[0,1],[3,4]])\n",
    "D = np.matrix([[1,2],[0,1]])\n",
    "A = 1 * B + (-2) * C + 4 * D\n",
    "A"
   ]
  },
  {
   "cell_type": "markdown",
   "metadata": {},
   "source": [
    "&#9989; **<font color=red>QUESTION:</font>**  Write a basis for all $2\\times 3$ matrices and give the dimension of the space."
   ]
  },
  {
   "cell_type": "markdown",
   "metadata": {},
   "source": [
    "1. $ {[0,1]^T, [1,0]^T} $\n",
    "2. Dimension of space is $\\mathbb{R}^{2\\times2}$"
   ]
  },
  {
   "cell_type": "markdown",
   "metadata": {},
   "source": [
    "&#9989; **<font color=red> QUESTION:</font>** Is matrix $A$ is a linear combination of $B$, $C$, and $D$ from above?"
   ]
  },
  {
   "cell_type": "markdown",
   "metadata": {},
   "source": [
    "Put your answer to the above question here\n",
    "Yes"
   ]
  },
  {
   "cell_type": "markdown",
   "metadata": {},
   "source": [
    "&#9989; **<font color=red>QUESTION:</font>**  What questions do you have, if any, about any of the topics discussed in this assignment after working through the jupyter notebook?"
   ]
  },
  {
   "cell_type": "markdown",
   "metadata": {},
   "source": [
    "1. Have some questions on Spaces."
   ]
  },
  {
   "cell_type": "markdown",
   "metadata": {},
   "source": [
    "&#9989; **<font color=red>QUESTION:</font>**  What kind of additional questions or support, if any, do you feel you need to have a better understanding of the content in this assignment?"
   ]
  },
  {
   "cell_type": "markdown",
   "metadata": {},
   "source": [
    "# D: Vector Spaces\n",
    "\n",
    "<img src=\"https://upload.wikimedia.org/wikipedia/commons/thumb/5/59/3d_basis_transformation.svg/580px-3d_basis_transformation.svg.png\" width=\"50%\">\n",
    "\n",
    "Image from: [https://en.wikipedia.org/wiki/Change_of_basis](https://en.wikipedia.org/wiki/Change_of_basis)\n",
    "\n",
    "\n",
    "\n",
    "    "
   ]
  },
  {
   "cell_type": "markdown",
   "metadata": {},
   "source": [
    "# ---\n",
    "<a name=Basis-Vectors></a>\n",
    "## D1. Basis Vectors\n",
    "\n"
   ]
  },
  {
   "cell_type": "markdown",
   "metadata": {},
   "source": [
    "Consider the following example. We claim that the following set of vectors form a baiss for $R^3$:\n",
    "\n",
    "$$B = \\{(2,1, 3), (-1,6, 0), (3, 4, -10) \\}$$"
   ]
  },
  {
   "cell_type": "markdown",
   "metadata": {},
   "source": [
    "If these vectors form a basis they must be _**linearly independent**_ and _**Span**_ the entire space of $R^3$"
   ]
  },
  {
   "cell_type": "code",
   "execution_count": 23,
   "metadata": {},
   "outputs": [],
   "source": [
    "%matplotlib inline\n",
    "import matplotlib.pylab as plt\n",
    "import numpy as np\n",
    "import sympy as sym\n",
    "sym.init_printing(use_unicode=True)"
   ]
  },
  {
   "cell_type": "markdown",
   "metadata": {},
   "source": [
    "&#9989; **<font color=red>DO THIS:</font>** Create a $3 \\times 3$ numpy matrix $A$ where the columns of $A$ form are the basis vectors. "
   ]
  },
  {
   "cell_type": "code",
   "execution_count": 53,
   "metadata": {},
   "outputs": [],
   "source": [
    "#Put your answer to the above question here\n",
    "A = np.matrix([\n",
    "    [2,-1,3],\n",
    "    [1,6,4],\n",
    "    [3,0,-10]\n",
    "])"
   ]
  },
  {
   "cell_type": "code",
   "execution_count": 54,
   "metadata": {},
   "outputs": [
    {
     "name": "stdout",
     "output_type": "stream",
     "text": [
      "\n",
      "CheckWarning: passed matrix is int64 and not <class 'numpy.float64'>...\n",
      "    Trying to convert to float using ```A = A.astype(float)```.\n",
      "\n",
      "\n",
      "CheckWarning: Matrix contains negative values for zero...\n",
      "    Converting to positive values of zero using  ```A[A==-0] = 0```.\n",
      "\n",
      "Testing [[  2.  -1.   3.]\n",
      " [  1.   6.   4.]\n",
      " [  3.   0. -10.]]\n",
      "Answer seems to be correct\n",
      "\n"
     ]
    }
   ],
   "source": [
    "from answercheck import checkanswer\n",
    "\n",
    "checkanswer.matrix(A,'68b81f1c1041158b519936cb1a2e4d6b');"
   ]
  },
  {
   "cell_type": "markdown",
   "metadata": {},
   "source": [
    "&#9989; **<font color=red>DO THIS:</font>** Using python, calculate the determinant of matrix $A$."
   ]
  },
  {
   "cell_type": "code",
   "execution_count": 55,
   "metadata": {},
   "outputs": [
    {
     "data": {
      "image/png": "[encoded data removed]",
      "text/latex": [
       "$\\displaystyle -196.0$"
      ],
      "text/plain": [
       "-195.99999999999991"
      ]
     },
     "execution_count": 55,
     "metadata": {},
     "output_type": "execute_result"
    }
   ],
   "source": [
    "# Put your answer to the above question here. \n",
    "determinent = np.linalg.det(A)\n",
    "determinent"
   ]
  },
  {
   "cell_type": "markdown",
   "metadata": {},
   "source": [
    "&#9989; **<font color=red>DO THIS:</font>** Using python, calculate the inverse of $A$."
   ]
  },
  {
   "cell_type": "code",
   "execution_count": 56,
   "metadata": {},
   "outputs": [
    {
     "data": {
      "text/plain": [
       "matrix([[ 0.30612245,  0.05102041,  0.1122449 ],\n",
       "        [-0.1122449 ,  0.14795918,  0.0255102 ],\n",
       "        [ 0.09183673,  0.01530612, -0.06632653]])"
      ]
     },
     "execution_count": 56,
     "metadata": {},
     "output_type": "execute_result"
    }
   ],
   "source": [
    "# Put your answer to the above question here.\n",
    "inv = np.linalg.inv(A)\n",
    "inv"
   ]
  },
  {
   "cell_type": "markdown",
   "metadata": {},
   "source": [
    "&#9989; **<font color=red>DO THIS:</font>** Using python, calculate the rank of $A$."
   ]
  },
  {
   "cell_type": "code",
   "execution_count": 57,
   "metadata": {},
   "outputs": [
    {
     "data": {
      "text/plain": [
       "3"
      ]
     },
     "execution_count": 57,
     "metadata": {},
     "output_type": "execute_result"
    }
   ],
   "source": [
    "# Put your answer to the above question here.\n",
    "rank = np.linalg.matrix_rank(A)\n",
    "rank"
   ]
  },
  {
   "cell_type": "markdown",
   "metadata": {},
   "source": [
    "&#9989; **<font color=red>DO THIS:</font>** Using python, calculate the reduced row echelon form of $A$."
   ]
  },
  {
   "cell_type": "code",
   "execution_count": 58,
   "metadata": {},
   "outputs": [
    {
     "data": {
      "text/latex": [
       "$\\displaystyle \\left[\\begin{matrix}1 & 0 & 0\\\\0 & 1 & 0\\\\0 & 0 & 1\\end{matrix}\\right]$"
      ],
      "text/plain": [
       "⎡1  0  0⎤\n",
       "⎢       ⎥\n",
       "⎢0  1  0⎥\n",
       "⎢       ⎥\n",
       "⎣0  0  1⎦"
      ]
     },
     "execution_count": 58,
     "metadata": {},
     "output_type": "execute_result"
    }
   ],
   "source": [
    "# Put your answer to the above question here. \n",
    "\n",
    "\n",
    "RREF,_ = sym.Matrix(A).rref()\n",
    "RREF"
   ]
  },
  {
   "cell_type": "markdown",
   "metadata": {},
   "source": [
    "&#9989; **<font color=red>DO THIS:</font>** Using the above $A$ and the vector $b=(1,3,2)$.  What is the solution to $Ax=b$?  "
   ]
  },
  {
   "cell_type": "code",
   "execution_count": 60,
   "metadata": {},
   "outputs": [
    {
     "data": {
      "text/plain": [
       "matrix([[0.68367347],\n",
       "        [0.38265306],\n",
       "        [0.00510204]])"
      ]
     },
     "execution_count": 60,
     "metadata": {},
     "output_type": "execute_result"
    }
   ],
   "source": [
    "#Put your answer to the above question here.\n",
    "b = np.matrix([1,3,2]).transpose()\n",
    "x = np.linalg.solve(A,b)\n",
    "x"
   ]
  },
  {
   "cell_type": "code",
   "execution_count": 61,
   "metadata": {},
   "outputs": [
    {
     "name": "stdout",
     "output_type": "stream",
     "text": [
      "Testing [[0.68367]\n",
      " [0.38265]\n",
      " [0.0051 ]]\n",
      "Answer seems to be correct\n",
      "\n"
     ]
    }
   ],
   "source": [
    "from answercheck import checkanswer\n",
    "\n",
    "checkanswer.matrix(x,'8b0938260dfeaafc9f8e9fec0bc72f17');"
   ]
  },
  {
   "cell_type": "markdown",
   "metadata": {},
   "source": [
    "Turns out a matrix where column vectors are formed from basis vectors a lot of interesting properties and the following statements are equivalent.\n",
    "\n",
    "- The column vectors of $A$ form a basis for $\\mathbb{C}^n$\n",
    "- $|A| \\ne 0$\n",
    "- $A$ is invertible.\n",
    "- $A$ is row equivalent to $I_n$ (i.e. it's reduced row echelon form is $I_n$)\n",
    "- The system of equations $Ax = b$ has a unique solution.\n",
    "- $rank(A) = n$\n"
   ]
  },
  {
   "cell_type": "markdown",
   "metadata": {},
   "source": [
    "Not all matrices follow the above statements but the ones that do are used throughout linear algebra so it is important that we know these properties. "
   ]
  },
  {
   "cell_type": "markdown",
   "metadata": {},
   "source": [
    "\n",
    "\n",
    "---\n",
    "<a name=Vector-Spaces></a>\n",
    "## D2. Vector Spaces\n",
    "\n",
    "A **Vector Space** is a set $V$ of elements called **vectors**, having operations of addition and scalar multiplication defined on it that satisfy the following conditions ($u$, $v$, and $w$ are arbitrary elements of $V$, and c and d are scalars.)\n",
    "\n",
    "### Closure Axioms\n",
    "\n",
    "1. The sum $u + v$ exists and is an element of $V$. ($V$ is closed under addition.)\n",
    "2. $cu$ is an element of $V$. ($V$ is closed under scalar multiplication.)\n",
    "\n",
    "### Addition Axioms\n",
    "\n",
    "3. $u + v = v + u$ (commutative property)\n",
    "4. $u + (v + w) = (u + v) + w$ (associative property)\n",
    "5. There exists an element of $V$, called a **zero vector**, denoted $0$, such that $u+0 = u$\n",
    "6. For every element $u$ of $V$, there exists an element called a **negative** of $u$, denoted $-u$, such that $u + (-u) = 0$.\n",
    "\n",
    "### Scalar Multiplication Axioms\n",
    "\n",
    "7. $c(u+v) = cu + cv$\n",
    "8. $(c + d)u = cu + du$\n",
    "9.  $c(du) = (cd)u$\n",
    "10. $1u = u$\n",
    "\n",
    "### Definition of a basis of a vector space\n",
    "\n",
    "> A finite set of vectors ${v_1,\\dots, v_n}$ is called a **basis** of a *vector space* $V$ if the set *spans* $V$ and is *linearly independent*. \n",
    ">i.e. each vector in $V$ can be expressed uniquely as a *linear combination* of the vectors in a basis.\n",
    "\n"
   ]
  },
  {
   "cell_type": "markdown",
   "metadata": {},
   "source": [
    "## Vector spaces\n",
    "\n",
    "&#9989; **<font color=red>DO THIS:</font>** Let $U$ be the set of all circles in $R^2$ having center at the origin. \n",
    "Interpret the origin as being in this set, i.e., it is a circle center at the origin with radius zero. \n",
    "Assume $C_1$ and $C_2$ are elements of $U$. \n",
    "Let $C_1 + C_2$ be the circle centered at the origin, whose radius is the sum of the radii of $C_1$ and $C_2$. \n",
    "Let $kC_1$ be the circle center at the origin, whose radius is $|k|$ times that of $C_1$. \n",
    "Determine which vector space axioms hold and which do not. \n"
   ]
  },
  {
   "cell_type": "markdown",
   "metadata": {},
   "source": [
    "Put your answer here"
   ]
  },
  {
   "cell_type": "markdown",
   "metadata": {},
   "source": [
    "### Spans:\n",
    "\n",
    "&#9989; **<font color=red>DO THIS:</font>** Let $v$, $v_1$, and $v_2$ be vectors in a vector space $V$. \n",
    "Let $v$ be a linear combination of $v_1$ and $v_2$. \n",
    "If $c_1$ and $c_2$ are nonzero real numbers, show that $v$ is also a linear combination of $c_1v_1$ and $c_2v_2$."
   ]
  },
  {
   "cell_type": "markdown",
   "metadata": {},
   "source": [
    "Put your answer here"
   ]
  },
  {
   "cell_type": "markdown",
   "metadata": {},
   "source": [
    "&#9989; **<font color=red>DO THIS:</font>** Let $v_1$ and $v_2$ span a vector space $V$. \n",
    "Let $v_3$ be any other vector in $V$. \n",
    "Show that $v_1$, $v_2$, and $v_3$ also span $V$."
   ]
  },
  {
   "cell_type": "markdown",
   "metadata": {},
   "source": [
    "Put your answer here"
   ]
  },
  {
   "cell_type": "markdown",
   "metadata": {},
   "source": [
    "### Linear Independent:\n",
    "Consider the following matrix, which is in the reduced row echelon form.\n",
    "\n",
    "\n",
    "$$ \n",
    "\\left[\n",
    "\\begin{matrix}\n",
    "    1   & 0 & 0 & 7  \\\\\n",
    "    0   & 1 & 0 & 4  \\\\\n",
    "    0   & 0 & 1 & 3\n",
    "\\end{matrix}\n",
    "\\right] \n",
    "$$\n",
    "\n",
    "&#9989; **<font color=red>DO THIS:</font>** Show that the row vectors form a linearly independent set:\n"
   ]
  },
  {
   "cell_type": "markdown",
   "metadata": {},
   "source": [
    "Put your answer here"
   ]
  },
  {
   "cell_type": "markdown",
   "metadata": {},
   "source": [
    "&#9989; **<font color=red>DO THIS:</font>** Is the set of nonzero row vectors of any matrix in reduced row echelon form linearly independent? Discuss in your groups and include your thoughts below."
   ]
  },
  {
   "cell_type": "markdown",
   "metadata": {},
   "source": [
    "Put your answer here"
   ]
  },
  {
   "cell_type": "markdown",
   "metadata": {},
   "source": [
    "&#9989; **<font color=red>DO THIS:</font>** A computer program accepts a number of vectors in $R^3$ as input and checks to see if the vectors are linearly independent and outputs a True/False statment. \n",
    "Discuss in your groups, which is more likely to happen due to round-off error--that the computer states that a given set of linearly independent vectors is linearly dependent, or vice versa? \n",
    "Put your groups thoughts below."
   ]
  },
  {
   "cell_type": "markdown",
   "metadata": {},
   "source": [
    "Put your answer here"
   ]
  },
  {
   "cell_type": "markdown",
   "metadata": {},
   "source": [
    "----\n",
    "Written by Dr. Dirk Colbry, Michigan State University\n",
    "<a rel=\"license\" href=\"http://creativecommons.org/licenses/by-nc/4.0/\"><img alt=\"Creative Commons License\" style=\"border-width:0\" src=\"https://i.creativecommons.org/l/by-nc/4.0/88x31.png\" /></a><br />This work is licensed under a <a rel=\"license\" href=\"http://creativecommons.org/licenses/by-nc/4.0/\">Creative Commons Attribution-NonCommercial 4.0 International License</a>."
   ]
  },
  {
   "cell_type": "markdown",
   "metadata": {},
   "source": [
    "\n"
   ]
  },
  {
   "cell_type": "markdown",
   "metadata": {},
   "source": [
    "\n"
   ]
  },
  {
   "cell_type": "markdown",
   "metadata": {},
   "source": [
    "# E Matrix Spaces"
   ]
  },
  {
   "cell_type": "code",
   "execution_count": null,
   "metadata": {},
   "outputs": [],
   "source": [
    "%matplotlib inline\n",
    "import matplotlib.pylab as plt\n",
    "import numpy as np\n",
    "import sympy as sym\n",
    "sym.init_printing(use_unicode=True)"
   ]
  },
  {
   "cell_type": "markdown",
   "metadata": {},
   "source": [
    "----\n",
    "<a name=\"Properties_of_invertible_Matrices\"></a>\n",
    "\n",
    "## E1.  Review the Properties of Invertible Matrices\n",
    "Let $A$ be an $n \\times n$ matrix. The following statements are equivalent.\n",
    "\n",
    "- The column vectors of $A$ form a basis for $R^n$\n",
    "- $|A| \\ne 0$\n",
    "- $A$ is invertible.\n",
    "- $A$ is row equivalent to $I_n$ (i.e. it's reduced row echelon form is $I_n$)\n",
    "- The system of equations $Ax = b$ has a unique solution.\n",
    "- $rank(A) = n$\n"
   ]
  },
  {
   "cell_type": "markdown",
   "metadata": {},
   "source": [
    "Consider the following example. We claim that the following set of vectors form a basis for $R^3$:\n",
    "\n",
    "$$B = \\{(2,1, 4), (-1,6, 0), (2, 4, -3) \\}$$\n",
    "\n",
    "Remember for these two vectors to be a basis they need to obay the following two properties:\n",
    "\n",
    "1. They must span $R^3$. \n",
    "2. They must be linearly independent.\n",
    "\n",
    "Using the above statements we can show this is true in multiple ways.  "
   ]
  },
  {
   "cell_type": "markdown",
   "metadata": {},
   "source": [
    "\n",
    "### The column vectors of $A$ form a basis for $R^n$\n",
    "\n",
    "&#9989; **<font color=red>DO THIS:</font>** Define a numpy matrix ```A``` consisting of the vectors $B$ as columns:"
   ]
  },
  {
   "cell_type": "code",
   "execution_count": null,
   "metadata": {},
   "outputs": [],
   "source": [
    "#Put your answer to the above question here"
   ]
  },
  {
   "cell_type": "code",
   "execution_count": null,
   "metadata": {},
   "outputs": [],
   "source": [
    "from answercheck import checkanswer\n",
    "\n",
    "checkanswer.matrix(A,'94827a40ec59c7d767afe6841e1723ce');"
   ]
  },
  {
   "cell_type": "markdown",
   "metadata": {},
   "source": [
    "### $|A| \\ne 0$\n",
    "\n",
    "\n",
    "&#9989; **<font color=red>DO THIS:</font>** The first in the above properties tell us that if the vectors in $B$ are truly a basis of $R^3$ then $|A|=0$. Calculate the determinant of $A$ and store the value in ```det```."
   ]
  },
  {
   "cell_type": "code",
   "execution_count": null,
   "metadata": {},
   "outputs": [],
   "source": [
    "#Put your answer to the above question here"
   ]
  },
  {
   "cell_type": "code",
   "execution_count": null,
   "metadata": {},
   "outputs": [],
   "source": [
    "#Verify that the determinate is in fact zero\n",
    "if np.isclose(det,0):\n",
    "    print(\"Since the Determinate is zero the column vectors do NOT form a Basis\")\n",
    "else:\n",
    "    print(\"Since the Determinate is non-zero then the column vectors form a Basis.\")"
   ]
  },
  {
   "cell_type": "markdown",
   "metadata": {},
   "source": [
    "###  $A$ is invertible.\n",
    "\n",
    "\n",
    "&#9989; **<font color=red>DO THIS:</font>** Since the determinant is non-zero we know that there is an inverse to A.  Use python to calculate that inverse and store it in a matrix called ```A_inv```"
   ]
  },
  {
   "cell_type": "code",
   "execution_count": null,
   "metadata": {},
   "outputs": [],
   "source": [
    "#put your answer to the above question here"
   ]
  },
  {
   "cell_type": "code",
   "execution_count": null,
   "metadata": {},
   "outputs": [],
   "source": [
    "from answercheck import checkanswer\n",
    "\n",
    "checkanswer.matrix(A_inv,'001aaddd4824f42ad9d2ccde21cf9d24');"
   ]
  },
  {
   "cell_type": "markdown",
   "metadata": {},
   "source": [
    "### $A$ is row equivalent to $I_n$ (i.e. it's reduced row echelon form is $I_n$)\n"
   ]
  },
  {
   "cell_type": "markdown",
   "metadata": {},
   "source": [
    "&#9989; **<font color=red>DO THIS:</font>** According to the property above the reduced row echelon form of an invertable matrix is the Identity matrix.  Verify using the python ```sympy``` library and store the reduced row echelone matrix in a variable called ```rref``` if you really need to check it."
   ]
  },
  {
   "cell_type": "code",
   "execution_count": null,
   "metadata": {},
   "outputs": [],
   "source": [
    "#put your answer to the above question here"
   ]
  },
  {
   "cell_type": "code",
   "execution_count": null,
   "metadata": {},
   "outputs": [],
   "source": [
    "from answercheck import checkanswer\n",
    "\n",
    "checkanswer.matrix(rref,'cde432847c1c4b6d17cd7bfacc457ed1');"
   ]
  },
  {
   "cell_type": "markdown",
   "metadata": {},
   "source": [
    "### The system of equations $Ax = b$ has a unique solution.\n",
    "\n",
    "Let us assume some arbitrary vector $b \\in R^n$.  According to the above properties it should only have one solution.\n",
    "\n",
    "&#9989; **<font color=red>DO THIS:</font>** Find the solution to $Ax=b$ for the vector $b=(-10,200,3)$. Store the solution in a variable called ```x```"
   ]
  },
  {
   "cell_type": "code",
   "execution_count": null,
   "metadata": {},
   "outputs": [],
   "source": [
    "from answercheck import checkanswer\n",
    "\n",
    "checkanswer.vector(x,'161cfd16545b1b5fb13e35d2800f13df');"
   ]
  },
  {
   "cell_type": "markdown",
   "metadata": {},
   "source": [
    "### $rank(A) = n$\n",
    "\n",
    "The final property says that the rank should equal the dimension of $R^n$. In our example $n=3$.  Find a ```python``` function to calculate the rank of $A$. Store the value in a variable named ```rank``` to check your answer.\n"
   ]
  },
  {
   "cell_type": "code",
   "execution_count": null,
   "metadata": {},
   "outputs": [],
   "source": [
    "#Put your answer to the above quesion here"
   ]
  },
  {
   "cell_type": "code",
   "execution_count": null,
   "metadata": {},
   "outputs": [],
   "source": [
    "#Verify that the determinate is in fact zero\n",
    "if np.isclose(rank,3):\n",
    "    print(\"Rank is 3\")\n",
    "else:\n",
    "    print(\"Rank is not 3. Did we do something wrong?\")"
   ]
  },
  {
   "cell_type": "markdown",
   "metadata": {},
   "source": [
    "&#9989; **<font color=red>QUESTION (assignment-specific):</font>** Without doing any calculations (i.e. only using the above properties), how many solutions are there to $Ax=0$?  What is(are) the solution(s)?"
   ]
  },
  {
   "cell_type": "markdown",
   "metadata": {},
   "source": [
    "Put your answer to the above question here."
   ]
  },
  {
   "cell_type": "markdown",
   "metadata": {},
   "source": [
    "----\n",
    "<a name=\"The_Basis_of_a_Vector_Space\"></a>\n",
    "## E2. The Basis of a Vector Space\n",
    "\n",
    "Let $U$ be a vector space with basis $B=\\{u_1, \\ldots, u_n\\}$, and let $u$ be a vector in $U$. \n",
    "Because a basis \"spans\" the vector space, we know that there exists scalars $a_1, \\dots, a_n$ such that:\n",
    "\n",
    "$$ u = a_1u_1 + \\dots + a_nu_n$$\n",
    "\n",
    "Since a basis is a linearly independent set of vectors we know the scalars $a_1, \\dots, a_n$ are unique.\n",
    "\n",
    "The values $a_1, \\dots, a_n$ are called the **coordinates of $u$** relative to the basis ($B$) and is typically written as a column vector:\n",
    "\n",
    "$$ u_B = \n",
    "\\left[\n",
    "\\begin{matrix}\n",
    "    a_1  \\\\\n",
    "    \\vdots  \\\\\n",
    "    a_n \n",
    " \\end{matrix}\n",
    "\\right] \n",
    "$$\n",
    "\n",
    "We can create a *transition matrix* $P$ using the inverse of the matrix with the basis vectors being columns. \n",
    "\n",
    "$$P = [ u_1  \\ldots  u_n ]^{-1}$$\n",
    "\n",
    "Now we will show that matrix $P$ will transition vector $u$ in the standard coordinate system to the coordinates relative to the basis $B$:\n",
    "\n",
    "$$ u_B = Pu$$"
   ]
  },
  {
   "cell_type": "markdown",
   "metadata": {},
   "source": [
    "**_EXAMPLE_**: Consider the vector $u = \\left[ \\begin{matrix} 5 \\\\ 3 \\end{matrix} \\right]$ and the basis vectors $B = \\{(1,2), (3,-1)\\}$. \n",
    "The following code calculates the $P$ *transition matrix* from $B$ and then uses $P$ to calculate the values of $u_B$ ($a_1$ and $a_2$):\n"
   ]
  },
  {
   "cell_type": "code",
   "execution_count": null,
   "metadata": {},
   "outputs": [],
   "source": [
    "u = np.matrix([[5],[3]])\n",
    "sym.Matrix(u)"
   ]
  },
  {
   "cell_type": "code",
   "execution_count": null,
   "metadata": {},
   "outputs": [],
   "source": [
    "B = np.matrix([[1,2],[3,-1]]).T\n",
    "sym.Matrix(B)"
   ]
  },
  {
   "cell_type": "code",
   "execution_count": null,
   "metadata": {},
   "outputs": [],
   "source": [
    "P = np.linalg.inv(B)\n",
    "ub = P*u\n",
    "\n",
    "sym.Matrix(ub)"
   ]
  },
  {
   "cell_type": "markdown",
   "metadata": {},
   "source": [
    "Here we would like to view this from $R^n$. \n",
    "Let $$B=[u_1 \\dots u_n],$$\n",
    "then the values of $u_B$ can be found by solving the linear system $$u = B u_B.$$\n",
    "The columns of $B$ are a basis, therefore, the matrix $B$ is a $n\\times n$ square matrix and it has an inverse. \n",
    "Therefore, we can solve the linear system and obtain \n",
    "$$u_B = B^{-1} u = Pu.$$\n"
   ]
  },
  {
   "cell_type": "markdown",
   "metadata": {},
   "source": [
    "Let's try to visualize this with a plot:"
   ]
  },
  {
   "cell_type": "code",
   "execution_count": null,
   "metadata": {},
   "outputs": [],
   "source": [
    "ax = plt.axes();\n",
    "\n",
    "\n",
    "#Blue arrow representing first Basis Vector\n",
    "ax.arrow(0, 0, B[0,0],B[1,0], head_width=.2, head_length=.2, fc='blue', ec='blue');\n",
    "\n",
    "\n",
    "#Green arrow representing Second Basis Vector\n",
    "plt.plot([0,B[0,1]],[0,B[1,1]],color='green'); #Need this line to make the figure work. Not sure why.\n",
    "ax.arrow(0, 0, B[0,1],B[1,1], head_width=.2, head_length=.2, fc='green', ec='green');\n",
    "\n",
    "#Original point u as a red dot\n",
    "ax.scatter(u[0,0],u[1,0], color='red');\n",
    "\n",
    "plt.show()\n",
    "#plt.axis('equal');\n"
   ]
  },
  {
   "cell_type": "markdown",
   "metadata": {},
   "source": [
    "Notice that the blue arrow represents the first basis vector and the green arrow is the second basis vector in $B$. \n",
    "The solution to $u_B$ shows 2 units along the blue vector and 1 units along the green vector, which puts us at the point (5,3). \n",
    "\n",
    "This is also called a change in coordinate systems."
   ]
  },
  {
   "cell_type": "markdown",
   "metadata": {},
   "source": [
    "&#9989; **<font color=red>QUESTION</font>**: What is the coordinate vector of $u$ relative to the given basis $B$ in $R^3$?\n",
    "\n",
    "$$u = (9,-3,21)$$\n",
    "$$B = \\{(2,0,-1), (0,1,3), (1,1,1)\\}$$\n",
    "\n",
    "Store this coordinate in a variable ```ub``` for checking:"
   ]
  },
  {
   "cell_type": "code",
   "execution_count": null,
   "metadata": {},
   "outputs": [],
   "source": [
    "#Put your answer here"
   ]
  },
  {
   "cell_type": "code",
   "execution_count": null,
   "metadata": {},
   "outputs": [],
   "source": [
    "from answercheck import checkanswer\n",
    "\n",
    "checkanswer.vector(ub,'f72f62c739096030e0074c4e1dfca159');"
   ]
  },
  {
   "cell_type": "markdown",
   "metadata": {},
   "source": [
    "**_Let's look more closely into the matrix $P$, what is the meaning of the columns of the matrix $P$?_**\n",
    "\n",
    "We know that $P$ is the inverse of $B$, therefore, we have $$BP=I.$$\n",
    "Then we can look at the first column of the $P$, say $p_{1}$, we have that $Bp_1$ is the column vector $(1,0,0)^\\top$, which  is exactly the first component from the standard basis. \n",
    "This is true for other columns. \n",
    "\n",
    "It means that if we want to change an old basis $B$ to a new basis $B'$, we need to find out all the coordinates in the new basis for the old basis, and the transition matrix is by putting all the coordinates as columns.\n",
    "\n",
    "Here is the matrix $B$ again:"
   ]
  },
  {
   "cell_type": "code",
   "execution_count": null,
   "metadata": {},
   "outputs": [],
   "source": [
    "B = np.matrix([[2,0,-1],[0,1,3],[1,1,1]]).T\n",
    "sym.Matrix(B)"
   ]
  },
  {
   "cell_type": "markdown",
   "metadata": {},
   "source": [
    "The first column of P should be the solution to $Bx=\\left[ \\begin{matrix} 1 \\\\ 0 \\\\ 0 \\end{matrix} \\right]$.  We can use the ```numpy.linalg.solve``` function to find this solution:"
   ]
  },
  {
   "cell_type": "code",
   "execution_count": null,
   "metadata": {},
   "outputs": [],
   "source": [
    "# The first column of P should be \n",
    "u1 = np.matrix([1,0,0]).T\n",
    "p1 = np.linalg.solve(B,u1)\n",
    "p1"
   ]
  },
  {
   "cell_type": "markdown",
   "metadata": {},
   "source": [
    "We can find a similar answer for columns $p_2$ and $p_3$:"
   ]
  },
  {
   "cell_type": "code",
   "execution_count": null,
   "metadata": {},
   "outputs": [],
   "source": [
    "# The second column of P should be \n",
    "u2 = np.matrix([0,1,0]).T\n",
    "p2 = np.linalg.solve(B,u2)\n",
    "p2"
   ]
  },
  {
   "cell_type": "code",
   "execution_count": null,
   "metadata": {},
   "outputs": [],
   "source": [
    "# The third column of P should be \n",
    "u3 = np.matrix([0,0,1]).T\n",
    "p3 = np.linalg.solve(B,u3)\n",
    "p3"
   ]
  },
  {
   "cell_type": "code",
   "execution_count": null,
   "metadata": {},
   "outputs": [],
   "source": [
    "# concatenate three column together into a 3x3 matrix\n",
    "P = np.concatenate((p1, p2, p3), axis=1)\n",
    "sym.Matrix(P)"
   ]
  },
  {
   "cell_type": "code",
   "execution_count": null,
   "metadata": {},
   "outputs": [],
   "source": [
    "# Find the new coordinate in the new basis\n",
    "u = np.matrix([9,-3,21]).T\n",
    "UB = P*u\n",
    "print(UB)"
   ]
  },
  {
   "cell_type": "markdown",
   "metadata": {},
   "source": [
    "This should be basically the same answer as you got above. "
   ]
  },
  {
   "cell_type": "markdown",
   "metadata": {},
   "source": [
    "----\n",
    "<a name=\"Change_of_Basis\"></a>\n",
    "\n",
    "## E3. Change of Basis\n",
    "\n",
    "Now consider the following two bases in $R^2$:\n",
    "\n",
    "$$B_1 = \\{(1,2), (3,-1)\\}$$\n",
    "$$B_2 = \\{(3,1), (5,2)\\}$$\n",
    "\n",
    "The transformation from the \"standard basis\" to $B_1$ and $B_2$ can be defined as the column vectors $P_1$ and $P_2$ as follows:\n"
   ]
  },
  {
   "cell_type": "code",
   "execution_count": null,
   "metadata": {},
   "outputs": [],
   "source": [
    "B1 = np.matrix([[1,2],[3,-1]]).T\n",
    "P1 = np.linalg.inv(B1)\n",
    "\n",
    "sym.Matrix(P1)"
   ]
  },
  {
   "cell_type": "code",
   "execution_count": null,
   "metadata": {},
   "outputs": [],
   "source": [
    "B2 = np.matrix([[3,1],[5,2]]).T\n",
    "P2 = np.linalg.inv(B2)\n",
    "\n",
    "sym.Matrix(P2)"
   ]
  },
  {
   "cell_type": "markdown",
   "metadata": {},
   "source": [
    "&#9989; **<font color=red>DO THIS</font>**: Find the transition matrix $T$ that will take points in the $B_1$ coordinate representation and put them into $B_2$ coordinates.  **_NOTE_** this is analogous to the robot kinematics problem.  We want to represent points in a different coordinate system."
   ]
  },
  {
   "cell_type": "code",
   "execution_count": null,
   "metadata": {},
   "outputs": [],
   "source": [
    "# Put your answer to the above question here."
   ]
  },
  {
   "cell_type": "code",
   "execution_count": null,
   "metadata": {},
   "outputs": [],
   "source": [
    "from answercheck import checkanswer\n",
    "\n",
    "checkanswer.matrix(T,'dcc03ddff982e29eea6dd52ec9088986')\n"
   ]
  },
  {
   "cell_type": "markdown",
   "metadata": {},
   "source": [
    "&#9989; **<font color=red>QUESTION</font>**: Given $u_{B_1} = \\left[ \\begin{matrix} 2 \\\\ 1 \\end{matrix} \\right]$ (a point named $u$ in the $B_1$ coordinate system) and your calculated transition matrix $T$, what is the same point expressed in the $B_2$ basis (i.e. what is $u_{B2}$)? Store your answer in a variable named ub2 for checking."
   ]
  },
  {
   "cell_type": "code",
   "execution_count": null,
   "metadata": {},
   "outputs": [],
   "source": [
    "ub1 = np.matrix([[2],[1]])\n",
    "sym.Matrix(ub1)"
   ]
  },
  {
   "cell_type": "code",
   "execution_count": null,
   "metadata": {},
   "outputs": [],
   "source": [
    "##Put your code here"
   ]
  },
  {
   "cell_type": "code",
   "execution_count": null,
   "metadata": {},
   "outputs": [],
   "source": [
    "from answercheck import checkanswer\n",
    "\n",
    "checkanswer.vector(ub2,'9a5fe29254c07cf59ebdffcaba679917')"
   ]
  },
  {
   "cell_type": "markdown",
   "metadata": {},
   "source": [
    "There are three bases $B_1$, $B_2$, and $B_3$. We have the transition matrix $P_{12}$ from $B_1$ to $B_2$ and the transition matrix $P_{23}$ from $B_2$ to $B_3$. \n",
    "In $R^n$, we can compute the transition matrix as $$P_{12}=B_2^{-1}B_1,\\quad P_{23}=B_3^{-1}B_2$$\n",
    "\n",
    "Then we can find all other transition matrices.\n",
    "$$P_{13} = B_3^{-1}B_1=B_3^{-1}B_2*B_2^{-1}B_1= P_{23}P_{12}$$\n",
    "$$P_{21} = B_1^{-1}B_2 = (B_2^{-1}B_1)^{-1}=P_{12}^{-1}$$\n",
    "$$P_{32} = B_2^{-1}B_3 = (B_3^{-1}B_2)^{-1}=P_{23}^{-1}$$\n",
    "$$P_{31} = B_1^{-1}B_3 = (B_3^{-1}B_1)^{-1}=P_{13}^{-1}=(P_{23}P_{12})^{-1}=P_{12}^{-1}P_{23}^{-1}$$\n",
    "\n",
    "The result is true for general vector spaces and can be extended to many bases."
   ]
  },
  {
   "cell_type": "markdown",
   "metadata": {},
   "source": [
    "----\n",
    "\n",
    "<a name=\"Assignment_wrap-up\"></a>\n",
    "## E4. Assignment wrap-up"
   ]
  },
  {
   "cell_type": "markdown",
   "metadata": {},
   "source": [
    "&#9989; **<font color=red> QUESTION:</font>** Without doing any calculations (i.e. only using the above properties), how many solutions are there to Ax=0? What is(are) the solution(s)?"
   ]
  },
  {
   "cell_type": "markdown",
   "metadata": {},
   "source": [
    "Put your answer to the above question here"
   ]
  },
  {
   "cell_type": "markdown",
   "metadata": {},
   "source": []
  },
  {
   "cell_type": "markdown",
   "metadata": {},
   "source": [
    "# F Matrix Representation\n",
    "\n",
    "<img alt=\"Alternative visual representation showing how the four Fundamental Subspaces spaces map to each other\" src=\"https://upload.wikimedia.org/wikipedia/commons/4/4c/KerIm_2015Joz_L2.png\" width=\"50%\">\n",
    "\n",
    "Image from: [wikipedia](https://en.wikipedia.org/wiki/Kernel_(linear_algebra))\n"
   ]
  },
  {
   "cell_type": "code",
   "execution_count": null,
   "metadata": {},
   "outputs": [],
   "source": [
    "%matplotlib inline\n",
    "import matplotlib.pylab as plt\n",
    "import numpy as np\n",
    "import sympy as sym\n",
    "sym.init_printing(use_unicode=True)"
   ]
  },
  {
   "cell_type": "markdown",
   "metadata": {},
   "source": [
    "----\n",
    "<a name=\"Matrix_Representation_of_Vector_Spaces\"></a>\n",
    "## F1. Matrix Representation of Vector Spaces"
   ]
  },
  {
   "cell_type": "markdown",
   "metadata": {},
   "source": [
    "Consider the following matrix $A$. \n",
    "\n",
    "$$ \n",
    "\\left[\n",
    "\\begin{matrix}\n",
    "    1 & 0 & 3  \\\\\n",
    "    0 & 1 & 5  \\\\\n",
    "    1 & 1 & 8 \n",
    "\\end{matrix}\n",
    "\\right] \n",
    "$$"
   ]
  },
  {
   "cell_type": "markdown",
   "metadata": {},
   "source": [
    "&#9989; **<font color=red>QUESTION:</font>** What is the reduced row echelon form of $A$?"
   ]
  },
  {
   "cell_type": "code",
   "execution_count": null,
   "metadata": {},
   "outputs": [],
   "source": [
    "# Put your answer to the above question here."
   ]
  },
  {
   "cell_type": "code",
   "execution_count": null,
   "metadata": {},
   "outputs": [],
   "source": [
    "from answercheck import checkanswer\n",
    "\n",
    "checkanswer.matrix(rref,'1731818a1555cc33a778a4eb76af945c');"
   ]
  },
  {
   "cell_type": "markdown",
   "metadata": {},
   "source": [
    "**ROW SPACE** The first and second (non zero) rows of the above matrix \"spans\" the same space as the orignal three row vectors in $A$. We often call this the \"row space\" and it can be written as a linear combination of the non-zero rows of the reduced row echelon form:\n",
    "\n",
    "$$row(A) = r(1,0,3)^\\top+s(0,1,5)^\\top$$"
   ]
  },
  {
   "cell_type": "markdown",
   "metadata": {},
   "source": [
    "&#9989; **<font color=red>DO THIS:</font>** Calculate  the solutions to the system of homogeneous equations $Ax=0$. This is often called the **NULL SPACE** or sometimes **KERNEL** of $A$."
   ]
  },
  {
   "cell_type": "code",
   "execution_count": null,
   "metadata": {},
   "outputs": [],
   "source": [
    "#Put your asnwer here"
   ]
  },
  {
   "cell_type": "markdown",
   "metadata": {},
   "source": [
    "&#9989; **<font color=red>DO THIS:</font>** We introduced two subspaces. \n",
    "Pick one vector from the row space of $A$ and another vector from the null space of $A$. \n",
    "Find the dot product of these two vector."
   ]
  },
  {
   "cell_type": "code",
   "execution_count": null,
   "metadata": {},
   "outputs": [],
   "source": [
    "#Put your answer here"
   ]
  },
  {
   "cell_type": "markdown",
   "metadata": {},
   "source": [
    "&#9989; **<font color=red>Question:</font>** Did you get the same value for the dot product? Explain your answer. "
   ]
  },
  {
   "cell_type": "markdown",
   "metadata": {},
   "source": [
    "Put your answer to the above question here"
   ]
  },
  {
   "cell_type": "markdown",
   "metadata": {},
   "source": [
    "&#9989; **<font color=red>DO THIS:</font>** What is the reduced row echelon form of $A^T$?"
   ]
  },
  {
   "cell_type": "code",
   "execution_count": null,
   "metadata": {},
   "outputs": [],
   "source": [
    "#Put your answer here"
   ]
  },
  {
   "cell_type": "markdown",
   "metadata": {},
   "source": [
    "**COLUMN SPACE:** The first and second (non zero) rows of the above matrix \"spans\" the same space as the original three column vectors in $A$. We often call this the \"column space\" (or \"image space\") of $A$ and it can be written as a linear combination of the non-zero rows of the reduced row echelon form of $A^T$:\n",
    "\n",
    "$$col(A) = a(1,0,1)^\\top+b(0,1,1)^\\top$$"
   ]
  },
  {
   "cell_type": "markdown",
   "metadata": {},
   "source": [
    "&#9989; **<font color=red>DO THIS:</font>** Calculate the solutions to the system of homogeneous equations $A^Tx=0$. This is often called the **NULL SPACE** of $A^T$."
   ]
  },
  {
   "cell_type": "markdown",
   "metadata": {},
   "source": [
    "<font size=8 color=\"#009600\">&#9998;</font> Do This - Erase the contents of this cell and replace it with your answer to the above question!  (double-click on this text to edit this cell, and hit shift+enter to save the text)"
   ]
  },
  {
   "cell_type": "markdown",
   "metadata": {},
   "source": [
    "---\n",
    "### Example #1 "
   ]
  },
  {
   "cell_type": "markdown",
   "metadata": {},
   "source": [
    "Consider the following system of linear equations.\n",
    "\n",
    "$$ x_1 - x_2 + x_3 = 3 $$\n",
    "$$ -2x_1 + 2x_2 - 2x_3 = -6 $$"
   ]
  },
  {
   "cell_type": "markdown",
   "metadata": {},
   "source": [
    "&#9989; **<font color=red>DO THIS:</font>** What are the solutions to the above system of equations?"
   ]
  },
  {
   "cell_type": "code",
   "execution_count": null,
   "metadata": {},
   "outputs": [],
   "source": [
    "# Put your code here"
   ]
  },
  {
   "cell_type": "markdown",
   "metadata": {},
   "source": [
    "&#9989; **<font color=red>DO THIS:</font>** Come up with a specific arbitrary solution (any solution will do) to the above set of equations."
   ]
  },
  {
   "cell_type": "markdown",
   "metadata": {},
   "source": [
    "Put your answer to the above question here."
   ]
  },
  {
   "cell_type": "markdown",
   "metadata": {},
   "source": [
    "&#9989; **<font color=red>DO THIS:</font>** Now consider only the left hand side of the above matrix and solve for the kernel (null Space) of A:\n",
    "\n",
    "\n",
    "$$ A = \n",
    "\\left[\n",
    "\\begin{matrix}\n",
    "    1 & -1 & 1  \\\\\n",
    "    -2 & 2 & -2  \n",
    "\\end{matrix}\n",
    "\\right] \n",
    "$$"
   ]
  },
  {
   "cell_type": "code",
   "execution_count": null,
   "metadata": {},
   "outputs": [],
   "source": [
    "#Put your answer here"
   ]
  },
  {
   "cell_type": "markdown",
   "metadata": {},
   "source": [
    "&#9989; **<font color=red>DO THIS:</font>** Express an arbitrary solution as the sum of an element of the kernel of the transformation defined by the matrix of coefficients and a particular solution."
   ]
  },
  {
   "cell_type": "markdown",
   "metadata": {},
   "source": [
    "Put your answer to the above question here."
   ]
  },
  {
   "cell_type": "markdown",
   "metadata": {},
   "source": [
    "&#9989; **<font color=red>DO THIS:</font>** Discuss in your group and the class your solution from above. How does the solution to $Ax=b$ relate to the solution to $Ax=0$.  If you were to plot all solutions, what shape does it take? How does this shape relate to the kernel?"
   ]
  },
  {
   "cell_type": "markdown",
   "metadata": {},
   "source": [
    "Put your answer to the above question here."
   ]
  },
  {
   "cell_type": "markdown",
   "metadata": {},
   "source": [
    "----\n",
    "<a name=\"Practice_Example\"></a>\n",
    "## F2. Practice Nutrition\n",
    "\n",
    "Big Annie's Mac and Cheese fans want to improve the levels of protein and fiber for lunch by adding broccoli and canned chicken. \n",
    "The nutrition information for the foods in this problem are \n",
    "\n",
    "\n",
    "|Nutrient    | Mac and Cheese           |  Broccoli        |    Chicken   | Shells and White Cheddar |\n",
    "|----|-----------------|----------------|----------|----------|\n",
    "|Calories| 270 | 51 |  70 | 260 |\n",
    "|Protein (g) | 10 | 5.4 |  15| 9|\n",
    "|Fiber (g)| 2   |  5.2 |  0| 5|\n",
    "\n",
    "\n",
    "<img alt=\"Logo for Annie's Mac and Cheese\" src=\"https://upload.wikimedia.org/wikipedia/commons/c/cd/Annies_logo.png\" width=\"50%\">"
   ]
  },
  {
   "cell_type": "markdown",
   "metadata": {},
   "source": [
    "She wants to achieve the goals with exactly 400 calories, 30 g of protein, and 10 g of fiber by choosing the combination of these three or four serving. (Assume that we can have non-integer proportions for each serving.)"
   ]
  },
  {
   "cell_type": "markdown",
   "metadata": {},
   "source": [
    "&#9989; **<font color=red>Question a</font>**: We consider all **four** choices of food together. Formulate the problem into a system of equations \n",
    "$$Ax = b.$$\n",
    "Create your matrix $A$ and the column vector $b$ in *np.matrix*. "
   ]
  },
  {
   "cell_type": "code",
   "execution_count": null,
   "metadata": {},
   "outputs": [],
   "source": [
    "import numpy as np\n",
    "#####Start your code here #####\n",
    "A = np.matrix()\n",
    "b = np.matrix()\n",
    "#####End of your code here#####"
   ]
  },
  {
   "cell_type": "markdown",
   "metadata": {},
   "source": [
    "&#9989; **<font color=red>Question b</font>**: In this and next question, we only consider **three** out of the four choices. What proportions of these servings of the **three** food (Mac and Cheese, Broccoli, and Chicken) should be used to meet the goal? (Hint: formulate it as a system of equations and solve it)."
   ]
  },
  {
   "cell_type": "code",
   "execution_count": null,
   "metadata": {},
   "outputs": [],
   "source": [
    "#Put your answer here"
   ]
  },
  {
   "cell_type": "markdown",
   "metadata": {},
   "source": [
    "&#9989; **<font color=red>Question c</font>**: She found that there was too much broccoli in the proportions from part (b), so she decided to switch from classical Mac and Cheese to Annieâ€™s Whole Wheat Shells and White Cheddar. What proportions of servings of the new **three** food should she use to meet the goals?"
   ]
  },
  {
   "cell_type": "code",
   "execution_count": null,
   "metadata": {},
   "outputs": [],
   "source": [
    "#Put your answer here"
   ]
  },
  {
   "cell_type": "markdown",
   "metadata": {},
   "source": [
    "&#9989; **<font color=red>Question d</font>**: Based on the solutions to parts (b) and (c), what are the possible proportions of serving for the **four** food that meet the goal. "
   ]
  },
  {
   "cell_type": "markdown",
   "metadata": {},
   "source": [
    "**Put your answer here**"
   ]
  },
  {
   "cell_type": "markdown",
   "metadata": {},
   "source": [
    "&#9989; **<font color=red>Question e</font>**: Solve the system of equations from part (a). You need to first decide the three outcomes: One solution, None solution, Infinite many solutions. Then for *One solution*, write down the solution; for *Infinite many solutions*, write down all the solutions with free variables. "
   ]
  },
  {
   "cell_type": "code",
   "execution_count": null,
   "metadata": {},
   "outputs": [],
   "source": [
    "#Put your answer here"
   ]
  },
  {
   "cell_type": "markdown",
   "metadata": {},
   "source": [
    "**Put your answer here**"
   ]
  },
  {
   "cell_type": "markdown",
   "metadata": {},
   "source": [
    "# G Projections"
   ]
  },
  {
   "cell_type": "markdown",
   "metadata": {},
   "source": [
    "### Goals for today's pre-class assignment \n",
    "\n",
    ". [Assignment Wrap-up](#Assignment_Wrap-up)"
   ]
  },
  {
   "cell_type": "markdown",
   "metadata": {},
   "source": [
    "----\n",
    "<a name=\"Orthogonal_and_Orthonormal\"></a>\n",
    "## G1. Orthogonal and Orthonormal\n",
    "\n",
    "**Definition:** A set of vectors is said to be **orthogonal** if every pair of vectors in the set is orthogonal (the dot product is 0). \n",
    "The set is **orthonormal** if it is orthogonal and each vector is a unit vector (norm equals 1). \n",
    "\n",
    "**Result:** An orthogonal set of nonzero vectors is linearly independent.\n",
    "\n",
    "**Definition:** A basis that is an orthogonal set is called an orthogonal basis.\n",
    "A basis that is an orthonormal set is called an orthonormal basis.\n",
    "\n",
    "**Result:** Let $\\{u_1,\\dots,u_n\\}$ be an orthonormal basis for a vector space $V$. \n",
    "Then for any vector $v$ in $V$, we have \n",
    "$$v=(v\\cdot u_1)u_1+(v\\cdot u_2)u_2 +\\dots + (v\\cdot u_n)u_n$$\n",
    "\n",
    "**Definition:** A *square* matrix is **orthogonal** is $A^{-1}=A^\\top$.\n",
    "\n",
    "**Result:** Let $A$ be a square matrix. The following three statements are equivalent.\n",
    "\n",
    "(a) $A$ is orthogonal. \n",
    "\n",
    "(b) The column vectors of $A$ form an orthonormal set. \n",
    "\n",
    "(c) The row vectors of $A$ form an orthonormal set.\n",
    "\n",
    "(d) $A^{-1}$ is orthogonal. \n",
    "\n",
    "(e) $A^\\top$ is orthogonal.\n",
    "\n",
    "**Result:** If $A$ is an orthogonal matrix, then we have $|A|=\\pm 1$."
   ]
  },
  {
   "cell_type": "markdown",
   "metadata": {},
   "source": [
    "Consider the following vectors $u_1, u_2$, and $u_3$ that form a basis for $R^3$. \n",
    "\n",
    "$$ u_1 = (1,0,0)$$\n",
    "$$ u_2 = (0, \\frac{1}{\\sqrt(2)}, \\frac{1}{\\sqrt(2)})$$\n",
    "$$ u_3 = (0, \\frac{1}{\\sqrt(2)}, -\\frac{1}{\\sqrt(2)})$$"
   ]
  },
  {
   "cell_type": "markdown",
   "metadata": {},
   "source": [
    "&#9989; **<font color=red>DO THIS:</font>**  Show that the vectors $u_1$, $u_2$, and $u_3$ are linearly independent (**HINT:** see the pre-class for 0219-Change_Basis):"
   ]
  },
  {
   "cell_type": "markdown",
   "metadata": {},
   "source": [
    "Put your answer to the above here"
   ]
  },
  {
   "cell_type": "markdown",
   "metadata": {},
   "source": [
    "&#9989; **<font color=red>QUESTION 1:</font>** How do you show that $u_1$, $u_2$, and $u_3$ are orthogonal?"
   ]
  },
  {
   "cell_type": "markdown",
   "metadata": {},
   "source": [
    "Put your answer to the above question here"
   ]
  },
  {
   "cell_type": "markdown",
   "metadata": {},
   "source": [
    "&#9989; **<font color=red>QUESTION 2:</font>** How do you show that $u_1$, $u_2$, and $u_3$ are normal vectors?"
   ]
  },
  {
   "cell_type": "markdown",
   "metadata": {},
   "source": [
    "Put your answer to the above question here"
   ]
  },
  {
   "cell_type": "markdown",
   "metadata": {},
   "source": [
    "&#9989; **<font color=red>DO THIS:</font>**  Express the vector $v = (7,5,-1)$ as a linear combination of the $u_1$, $u_2$, and $u_3$ basis vectors:"
   ]
  },
  {
   "cell_type": "code",
   "execution_count": null,
   "metadata": {},
   "outputs": [],
   "source": [
    "# Put your answer here"
   ]
  },
  {
   "cell_type": "markdown",
   "metadata": {},
   "source": [
    "----\n",
    "<a name=\"Code_Review\"></a>\n",
    "## G2. Code Review\n",
    "\n",
    "In the next in-class assignment, we are going to avoid some of the more advanced libraries ((i.e. no ```numpy``` or ```scipy``` or ```sympy```) to try to get a better understanding about what is going on in the math. \n",
    "The following code implements some common linear algebra functions:"
   ]
  },
  {
   "cell_type": "code",
   "execution_count": null,
   "metadata": {},
   "outputs": [],
   "source": [
    "#Standard Python Libraries only\n",
    "import math\n",
    "import copy"
   ]
  },
  {
   "cell_type": "code",
   "execution_count": null,
   "metadata": {},
   "outputs": [],
   "source": [
    "def dot(u,v):\n",
    "    '''Calculate the dot product between vectors u and v'''\n",
    "    temp = 0;\n",
    "    for i in range(len(u)):\n",
    "        temp += u[i]*v[i]\n",
    "    return temp"
   ]
  },
  {
   "cell_type": "markdown",
   "metadata": {},
   "source": [
    "&#9989; **<font color=red>DO THIS:</font>** Write a quick test to compare the output of the above ```dot``` function with the ```numpy``` dot function."
   ]
  },
  {
   "cell_type": "code",
   "execution_count": null,
   "metadata": {},
   "outputs": [],
   "source": [
    "# Put your test code here"
   ]
  },
  {
   "cell_type": "code",
   "execution_count": null,
   "metadata": {},
   "outputs": [],
   "source": [
    "def multiply(m1,m2):\n",
    "    '''Calculate the matrix multiplication between m1 and m2 represented as list-of-list.'''\n",
    "    n = len(m1)\n",
    "    d = len(m2)\n",
    "    m = len(m2[0])\n",
    "    \n",
    "    if len(m1[0]) != d:\n",
    "        print(\"ERROR - inner dimentions not equal\")\n",
    "    \n",
    "    #make zero matrix\n",
    "    result = [[0 for j in range(m)] for i in range(n)]\n",
    "#    print(result)\n",
    "    for i in range(0,n):\n",
    "        for j in range(0,m):\n",
    "            for k in range(0,d):\n",
    "                #print(i,j,k)\n",
    "                #print('result', result[i][j])\n",
    "                #print('m1', m1[i][k])\n",
    "                #print('m2', m2[k][j])\n",
    "                result[i][j] = result[i][j] + m1[i][k] * m2[k][j]\n",
    "    return result\n"
   ]
  },
  {
   "cell_type": "markdown",
   "metadata": {},
   "source": [
    "&#9989; **<font color=red>DO THIS:</font>** Write a quick test to compare the output of the above ```multiply``` function with the ```numpy``` multiply function."
   ]
  },
  {
   "cell_type": "code",
   "execution_count": null,
   "metadata": {},
   "outputs": [],
   "source": [
    "# Put your test code here"
   ]
  },
  {
   "cell_type": "markdown",
   "metadata": {},
   "source": [
    "&#9989; **<font color=red>QUESTION:</font>** What is the big-O complexity of the above ```multiply``` function?"
   ]
  },
  {
   "cell_type": "markdown",
   "metadata": {},
   "source": [
    "Put your answer to the above question here."
   ]
  },
  {
   "cell_type": "markdown",
   "metadata": {},
   "source": [
    "&#9989; **<font color=red>QUESTION:</font>** Line 11 in the provided ```multiply``` code initializes a matrix of the size of the output matrix as a list of lists with zeros. What is the big-O complexity of line 11?"
   ]
  },
  {
   "cell_type": "markdown",
   "metadata": {},
   "source": [
    "Put your answer to the above question here."
   ]
  },
  {
   "cell_type": "code",
   "execution_count": null,
   "metadata": {},
   "outputs": [],
   "source": [
    "def norm(u):\n",
    "    '''Calculate the norm of vector u'''\n",
    "    nm = 0\n",
    "    for i in range(len(u)):\n",
    "        nm += u[i]*u[i]\n",
    "    return math.sqrt(nm)"
   ]
  },
  {
   "cell_type": "markdown",
   "metadata": {},
   "source": [
    "&#9989; **<font color=red>DO THIS:</font>** Write a quick test to compare the outputs of the above ```norm``` function with the ```numpy``` norm function."
   ]
  },
  {
   "cell_type": "code",
   "execution_count": null,
   "metadata": {},
   "outputs": [],
   "source": [
    "#Put your test code here"
   ]
  },
  {
   "cell_type": "code",
   "execution_count": null,
   "metadata": {},
   "outputs": [],
   "source": [
    "def transpose(A):\n",
    "    '''Calculate the transpose of matrix A represented as list of lists'''\n",
    "    n = len(A)\n",
    "    m = len(A[0])\n",
    "    AT = list()\n",
    "    for j in range(0,m):    \n",
    "        temp = list()\n",
    "        for i in range(0,n):\n",
    "            temp.append(A[i][j])\n",
    "        AT.append(temp)\n",
    "    return AT"
   ]
  },
  {
   "cell_type": "markdown",
   "metadata": {},
   "source": [
    "&#9989; **<font color=red>DO THIS:</font>** Write a quick test to compare the output of the above ```transpose``` function with the ```numpy``` transpose function."
   ]
  },
  {
   "cell_type": "code",
   "execution_count": null,
   "metadata": {},
   "outputs": [],
   "source": [
    "# Put your test code here"
   ]
  },
  {
   "cell_type": "markdown",
   "metadata": {},
   "source": [
    "&#9989; **<font color=red>QUESTION:</font>** What is the big-O complexity of the above ```transpose``` function?"
   ]
  },
  {
   "cell_type": "markdown",
   "metadata": {},
   "source": [
    "Put your answer to the above question here"
   ]
  },
  {
   "cell_type": "markdown",
   "metadata": {},
   "source": [
    "&#9989; **<font color=red>QUESTION:</font>** Explain any differences in results between the provided functions and their ```numpy``` counterparts. "
   ]
  },
  {
   "cell_type": "markdown",
   "metadata": {},
   "source": [
    "Put your answer to the above question here"
   ]
  },
  {
   "cell_type": "markdown",
   "metadata": {},
   "source": [
    "----\n",
    "<a name=\"Gram-Schmidt\"></a>\n",
    "## G3. Gram-Schmidt\n",
    "\n",
    "\n",
    "Watch this video for the indroduction of Gram-Schmidt, which we will implement in class."
   ]
  },
  {
   "cell_type": "code",
   "execution_count": null,
   "metadata": {},
   "outputs": [],
   "source": [
    "from IPython.display import YouTubeVideo\n",
    "YouTubeVideo(\"rHonltF77zI\",width=640,height=360, cc_load_policy=True)"
   ]
  },
  {
   "cell_type": "markdown",
   "metadata": {},
   "source": [
    "&#9989; **<font color=red> QUESTION:</font>** How do you show that $u_1$, $u_2$, and $u_3$ are orthogonal?"
   ]
  },
  {
   "cell_type": "markdown",
   "metadata": {},
   "source": [
    "Put your answer to the above question here"
   ]
  },
  {
   "cell_type": "markdown",
   "metadata": {},
   "source": [
    "\n"
   ]
  },
  {
   "cell_type": "markdown",
   "metadata": {},
   "source": [
    "# H Projections\n",
    "\n",
    "<img alt=\"Graph showing how one vector can be projected onto another vector by forming a right triangle\" src=\"https://upload.wikimedia.org/wikipedia/commons/9/98/Projection_and_rejection.png\" width=\"50%\">\n",
    "\n",
    "Image from: https://en.wikipedia.org/wiki/Vector_projection\n",
    "\n"
   ]
  },
  {
   "cell_type": "markdown",
   "metadata": {},
   "source": [
    "---\n",
    "<a name=\"Quiz_4_Review\"></a>\n",
    "## H1. Pre-class Review\n",
    "\n",
    "* [13--Projections_pre-class-assignment](13--Projections_pre-class-assignment.ipynb)"
   ]
  },
  {
   "cell_type": "markdown",
   "metadata": {},
   "source": [
    "----\n",
    "<a name=\"Understanding_Projections_with_Code\"></a>\n",
    "## H2. Understanding Projections With Code\n",
    "\n",
    "In this in-class assignment, we are going to avoid some of the more advanced libraries ((i.e. no ```numpy``` or ```scipy``` or ```sympy```) to try to get a better understanding about what is going on in the math. \n",
    "The following code implements some common linear algebra functions:"
   ]
  },
  {
   "cell_type": "code",
   "execution_count": null,
   "metadata": {},
   "outputs": [],
   "source": [
    "#Standard Python Libraries only\n",
    "import math\n",
    "import copy"
   ]
  },
  {
   "cell_type": "code",
   "execution_count": null,
   "metadata": {},
   "outputs": [],
   "source": [
    "def dot(u,v):\n",
    "    '''Calculate the dot product between vectors u and v'''\n",
    "    temp = 0;\n",
    "    for i in range(len(u)):\n",
    "        temp += u[i]*v[i]\n",
    "    return temp"
   ]
  },
  {
   "cell_type": "code",
   "execution_count": null,
   "metadata": {},
   "outputs": [],
   "source": [
    "def multiply(m1,m2):\n",
    "    '''Calculate the matrix multiplication between m1 and m2 represented as list-of-list.'''\n",
    "    n = len(m1)\n",
    "    d = len(m2)\n",
    "    m = len(m2[0])\n",
    "    \n",
    "    if len(m1[0]) != d:\n",
    "        print(\"ERROR - inner dimentions not equal\")\n",
    "    result = [[0 for i in range(n)] for j in range(m)]\n",
    "    for i in range(0,n):\n",
    "        for j in range(0,m):\n",
    "            for k in range(0,d):\n",
    "                result[i][j] = result[i][j] + m1[i][k] * m2[k][j]\n",
    "    return result"
   ]
  },
  {
   "cell_type": "code",
   "execution_count": null,
   "metadata": {},
   "outputs": [],
   "source": [
    "def add_vectors(v1,v2):\n",
    "    v3 = []\n",
    "    for i in range(len(v1)):\n",
    "        v3.append(v1[i]+v2[i])\n",
    "    return v3"
   ]
  },
  {
   "cell_type": "code",
   "execution_count": null,
   "metadata": {},
   "outputs": [],
   "source": [
    "def sub_vectors(v1,v2):\n",
    "    v3 = []\n",
    "    for i in range(len(v1)):\n",
    "        v3.append(v1[i]-v2[i])\n",
    "    return v3"
   ]
  },
  {
   "cell_type": "code",
   "execution_count": null,
   "metadata": {},
   "outputs": [],
   "source": [
    "def norm(u):\n",
    "    '''Calculate the norm of vector u'''\n",
    "    nm = 0\n",
    "    for i in range(len(u)):\n",
    "        nm += u[i]*u[i]\n",
    "    return math.sqrt(nm)"
   ]
  },
  {
   "cell_type": "code",
   "execution_count": null,
   "metadata": {},
   "outputs": [],
   "source": [
    "def transpose(A):\n",
    "    '''Calculate the transpose of matrix A represented as list of lists'''\n",
    "    n = len(A)\n",
    "    m = len(A[0])\n",
    "    AT = list()\n",
    "    for j in range(0,m):    \n",
    "        temp = list()\n",
    "        for i in range(0,n):\n",
    "            temp.append(A[i][j])\n",
    "        AT.append(temp)\n",
    "    return AT"
   ]
  },
  {
   "cell_type": "markdown",
   "metadata": {},
   "source": [
    "### Projection function\n",
    "\n",
    "&#9989; **<font color=red>DO THIS:</font>** Write a function that projects vector $v$ onto vector $u$. \n",
    "Do not use the numpy library. \n",
    "Instead use the functions provided above:\n",
    "\n",
    "$$\\mbox{proj}_u v = \\frac{v \\cdot u}{u \\cdot u} u$$\n",
    "\n",
    "Make sure this function will work for any size of $v$ and $u$. "
   ]
  },
  {
   "cell_type": "code",
   "execution_count": null,
   "metadata": {},
   "outputs": [],
   "source": [
    "def proj(v,u):\n",
    "    ## Put your code here\n",
    "    return pv"
   ]
  },
  {
   "cell_type": "markdown",
   "metadata": {},
   "source": [
    "Let's test your function. Below are two example vectors. Make sure you get the correct answers. \n",
    "You may want to test this code with more than one set of vectors. "
   ]
  },
  {
   "cell_type": "code",
   "execution_count": null,
   "metadata": {},
   "outputs": [],
   "source": [
    "u = [1,2,0,3]\n",
    "v = [4,0,5,8]\n",
    "print(proj(u,v))"
   ]
  },
  {
   "cell_type": "code",
   "execution_count": null,
   "metadata": {},
   "outputs": [],
   "source": [
    "from answercheck import checkanswer\n",
    "\n",
    "checkanswer.vector(proj(u,v),'53216508af49c616fa0f4e9676ce3b9d');"
   ]
  },
  {
   "cell_type": "markdown",
   "metadata": {},
   "source": [
    "### Visualizing projections\n",
    "\n",
    "&#9989; **<font color=red>DO THIS:</font>**See if you can design and implement a small function that takes two vectors ($a$ and $b$) as inputs and generates a figure similar to the one above.\n",
    "\n",
    "\n",
    "I.e. a black line from the origin to \"$b$\", a black line from origin to \"$a$\"; a green line showing the \"$a$\" component in the \"$b$\" direction and a red line showing the \"$a$\" component orthogonal to the green line. \n",
    "Also see section titled \"Projection of One Vector onto Another Vector\" in Section 4.6 on page 258 of the book.\n",
    "\n",
    "When complete, show your solution to the instructor."
   ]
  },
  {
   "cell_type": "code",
   "execution_count": null,
   "metadata": {},
   "outputs": [],
   "source": [
    "%matplotlib inline\n",
    "import matplotlib.pylab as plt\n",
    "\n",
    "b = [3,2]\n",
    "a = [2,3]\n",
    "\n",
    "def show_projection(a,b):\n",
    "    plt.plot([0,a[0]], [0,a[1]], color='black')\n",
    "    plt.annotate('b', b, \n",
    "            xytext=(0.9, 0.7), textcoords='axes fraction',\n",
    "            arrowprops=dict(facecolor='black', shrink=0.05),\n",
    "            horizontalalignment='right', verticalalignment='top')\n",
    "    plt.annotate('a', a, \n",
    "            xytext=(0.7, 0.95), textcoords='axes fraction',\n",
    "            arrowprops=dict(facecolor='black', shrink=0.05),\n",
    "            horizontalalignment='right', verticalalignment='top')\n",
    "    plt.plot([0,b[0]], [0,b[1]], color='black')\n",
    "    \n",
    "#Finish your code here\n",
    "\n",
    "    plt.axis('equal')\n",
    "    \n",
    "x = show_projection(a,b) ;"
   ]
  },
  {
   "cell_type": "markdown",
   "metadata": {},
   "source": [
    "----\n",
    "\n",
    "<a name=\"Gram-Schmidt_Orthoganalization_Process\"></a>\n",
    "\n",
    "## H3. Gram-Schmidt Orthoganalization Process\n",
    "\n",
    "&#9989; **<font color=red>DO THIS:</font>** Implement the Gram-Schmidt orthoganalization process from the [Hefron](http://joshua.smcvt.edu/linearalgebra/book.pdf) textbook (page 282). \n",
    "This function takes a $m \\times n$ Matrix $A$ with linearly independent columns as input and return a $m \\times n$ Matrix $G$ with orthogonal column vectors. \n",
    "The basic algorithm works as follows:\n",
    "\n",
    "- ```AT = transpose(A)``` (this process works with the columns of the matrix so it is easier to work with the transpose. Think about a list of list, it is easy to get a row (a list)).  \n",
    "- Make a new empty list of the same size as ```AT``` and call it ```GT``` (G transpose)\n",
    "- Loop index ```i``` over all of the rows in AT (i.e. columns of A) \n",
    "\n",
    "    - ```GT[i] = AT[i]```\n",
    "    - Loop index ```j``` from 0 to ```i```\n",
    "        - ```GT[i] -= proj(GT[i], GT[j])```\n",
    "        \n",
    "        \n",
    "- ```G = transpose(GT)```\n",
    "\n",
    "Use the following function definition as a template:"
   ]
  },
  {
   "cell_type": "code",
   "execution_count": null,
   "metadata": {},
   "outputs": [],
   "source": [
    "def GramSchmidt(A):\n",
    "    return G"
   ]
  },
  {
   "cell_type": "markdown",
   "metadata": {},
   "source": [
    "Here, we are going to test your function using the vectors:"
   ]
  },
  {
   "cell_type": "code",
   "execution_count": null,
   "metadata": {},
   "outputs": [],
   "source": [
    "A4 = [[1,4,8],[2,0,1],[0,5,5],[3,8,6]]\n",
    "print(transpose(A4))\n",
    "G4 = GramSchmidt(A4)\n",
    "print(transpose(G4))"
   ]
  },
  {
   "cell_type": "code",
   "execution_count": null,
   "metadata": {},
   "outputs": [],
   "source": [
    "from answercheck import checkanswer\n",
    "\n",
    "checkanswer.matrix(G4,'a472a81eef411c0df03ae9a072dfa040');"
   ]
  },
  {
   "cell_type": "code",
   "execution_count": null,
   "metadata": {},
   "outputs": [],
   "source": [
    "A2 = [[-4,-6],[3,5]]\n",
    "print(transpose(A2))\n",
    "G2 = GramSchmidt(A2)\n",
    "print(transpose(G2))"
   ]
  },
  {
   "cell_type": "code",
   "execution_count": null,
   "metadata": {},
   "outputs": [],
   "source": [
    "from answercheck import checkanswer\n",
    "\n",
    "checkanswer.matrix(G2,'23b9860b72dbe5b84d7c598c08af9688');"
   ]
  },
  {
   "cell_type": "markdown",
   "metadata": {},
   "source": [
    "&#9989; **<font color=red>QUESTION:</font>** What is the Big-O complexity of the Gram-Schmidt process? "
   ]
  },
  {
   "cell_type": "markdown",
   "metadata": {},
   "source": [
    "Put your answer here"
   ]
  },
  {
   "cell_type": "markdown",
   "metadata": {},
   "source": [
    "----\n",
    "\n",
    "Written by Dr. Dirk Colbry, Michigan State University\n",
    "<a rel=\"license\" href=\"http://creativecommons.org/licenses/by-nc/4.0/\"><img alt=\"Creative Commons License\" style=\"border-width:0\" src=\"https://i.creativecommons.org/l/by-nc/4.0/88x31.png\" /></a><br />This work is licensed under a <a rel=\"license\" href=\"http://creativecommons.org/licenses/by-nc/4.0/\">Creative Commons Attribution-NonCommercial 4.0 International License</a>."
   ]
  },
  {
   "cell_type": "markdown",
   "metadata": {},
   "source": [
    "<hr><font color=\"green\"><h1>from file: 14-pre</h1></font>"
   ]
  },
  {
   "cell_type": "markdown",
   "metadata": {},
   "source": []
  },
  {
   "cell_type": "markdown",
   "metadata": {},
   "source": [
    "# 14 Pre-Class Assignment: Fundamental Spaces\n",
    "\n",
    "\n",
    "<img alt=\"Classic picture of the four fundamental spaces. Please see text for detailed description.\" src=\"https://kevinbinz.files.wordpress.com/2017/02/linear-algebra-fundamental-space-interpretation-6.png\" width=\"100%\">\n",
    "\n",
    "\n",
    "Image from: https://kevinbinz.com/2017/02/20/linear-algebra/"
   ]
  },
  {
   "cell_type": "markdown",
   "metadata": {},
   "source": [
    "### Readings for this topic (Recommended in bold)\n",
    " * [**_Heffron Section VI.3 pg 277-283_**](http://joshua.smcvt.edu/linearalgebra/book.pdf)\n"
   ]
  },
  {
   "cell_type": "markdown",
   "metadata": {},
   "source": [
    "\n",
    "### Goals for today's pre-class assignment \n",
    "\n",
    "1. [Orthogonal Complement](#Orthogonal_Complement)\n",
    "1. [The Four Fundamental Spaces](#The_Four_Fundamental_Spaces)\n",
    "1. [Independent Learning](#Independent_Learning)\n",
    "1. [Assignment wrap-up](#Assignment_wrap-up)"
   ]
  },
  {
   "cell_type": "markdown",
   "metadata": {},
   "source": [
    "----\n",
    "<a name=\"Orthogonal_Complement\"></a>\n",
    "## 1. Orthogonal Complement\n",
    "\n",
    "**Definition**: A vector $u$ is **orthogonal to a subspace** $W$ of $R^n$ if $u$ is orthogonal to any $w$ in $W$ ($u\\cdot w=0$ for all $w\\in W$).\n",
    "\n",
    "For example, consider the following figure, if we consider the plane to be a subspace then the perpendicular vector comming out of the plane is is orthoginal to any vector in the plane:\n",
    "\n",
    "<img alt=\"Image of a 2D plane with a vector pointing directly out of the surface.\" src=\"https://lh5.googleusercontent.com/KC1bkJgC9ihevnOCqeMn_efEdkvgcx5TeBkEVYniwo7T_KxmBu76irZKluAj5PNor9SWdCg4RMS6BZDpNSJOmmz6l6cY0mEc5pq6iR9Qu8AzvWb12lgOO-YUBqiu=w416\">\n",
    "\n",
    "**Definition**: The **orthogonal complement** of $W$ is the set of all vectors that are orthogonal to $W$. The set is denoted as $W_{\\bot}$. "
   ]
  },
  {
   "cell_type": "markdown",
   "metadata": {},
   "source": [
    "&#9989; **<font color=red>QUESTION:</font>** Is $W_\\bot$ a subspace of $R^n$? Justify your answer briefly."
   ]
  },
  {
   "cell_type": "markdown",
   "metadata": {},
   "source": [
    "Put your answer to the above question here"
   ]
  },
  {
   "cell_type": "markdown",
   "metadata": {},
   "source": [
    "&#9989; **<font color=red>QUESTION:</font>** What are the vectors in both $W$ and $W_\\bot$?"
   ]
  },
  {
   "cell_type": "markdown",
   "metadata": {},
   "source": [
    "Put your answer to the above question here"
   ]
  },
  {
   "cell_type": "code",
   "execution_count": null,
   "metadata": {},
   "outputs": [],
   "source": [
    "from IPython.display import YouTubeVideo\n",
    "YouTubeVideo(\"5B8XluiqdHM\",width=640,height=360, cc_load_policy=True)"
   ]
  },
  {
   "cell_type": "markdown",
   "metadata": {},
   "source": [
    "### Projection of a Vector onto a Subspace\n",
    "\n",
    "Think of a projection onto a subspace is analogous to a shadow on a surface.  Aspects of an objects 3D space is represented in a 2D shadow but you can't take the shadow by itself and exactly recreate the 3D surface. \n",
    "\n",
    "<img alt=\"Picture of a hand shadow puppet of a bird.  Used to represent a projection\" src=\"https://upload.wikimedia.org/wikipedia/commons/f/f5/Hand_shadow_bird.jpg\" width=30%>\n",
    "\n",
    "Image from https://commons.wikimedia.org\n",
    "\n",
    "The following is the matimatical defination of projection onto a subspace.\n",
    "\n",
    "**Definition**: Let $W$ be a subspace of $R^n$ of dimension $m$. Let $\\{w_1,\\cdots,w_m\\}$ be an orthonormal basis for $W$. Then the projection of vector $v$ in $R^n$ onto $W$ is denoted as $\\mbox{proj}_Wv$ and is defined as \n",
    "$$\\mbox{proj}_Wv = (v\\cdot w_1)w_1+(v\\cdot w_2)w_2+\\cdots+(v\\cdot w_m)w_m$$\n",
    "\n",
    "\n",
    "Another way to say the above defination is that the project of $v$ onto the $W$ is just the sumation of $v$ projected onto each vector in a basis of $W$\n",
    "\n",
    "\n",
    "**Remarks**: \n",
    "> Recall in the lecture on *Projections*, we discussed the projection onto a vector, which is the case for $m=1$. We used the projection for $m>1$ in the Gram-Schmidt algorithm. \n",
    "\n",
    "> The projection does not depend on which orthonormal basis you choose. \n",
    "\n",
    "> If $v$ is in $W$, we have $\\mbox{proj}_Wv=v$."
   ]
  },
  {
   "cell_type": "markdown",
   "metadata": {},
   "source": [
    "### The Orthogonal Decomposition Theorem\n",
    "**Theorem**: Let $W$ be a subspace of $R^n$. Every vector $v$ in $R^n$ can be written uniquely in the form \n",
    "$$v= w+w_{\\bot},$$\n",
    "where $w$ is in $W$ and $w_\\bot$ is orthogonal to $W$ (i.e., $w_\\bot$ is in $W_\\bot$). \n",
    "In addition, $w=\\mbox{proj}_Wv$, and $w_\\bot = v-\\mbox{proj}_Wv$.\n",
    "\n",
    "**Definition**: Let $x$ be a point in $R^n$, $W$ be a subspace of $R^n$. The distance from $x$ to $W$ is defined to be the minimum of the distances from $x$ to any point $y$ in $W$.\n",
    "$$d(x,W)=\\min \\{\\|x-y\\|: \\mbox{ for all }y \\mbox{ in } W\\}.$$\n",
    "The optimal $y$ can be achieved at $\\mbox{proj}_Wx$, and $d(x,W)=\\|x-\\mbox{proj}_Wx\\|$."
   ]
  },
  {
   "cell_type": "markdown",
   "metadata": {},
   "source": [
    "&#9989; **<font color=red>QUESTION:</font>** Let $v=(3, 2, 6)$ and $W$ is the subspace consisting all vectors with the form $(a, b, b)$. Find the projection of $v$ onto $W$."
   ]
  },
  {
   "cell_type": "markdown",
   "metadata": {},
   "source": [
    "Put your answer to the above question here"
   ]
  },
  {
   "cell_type": "markdown",
   "metadata": {},
   "source": [
    "&#9989; **<font color=red>QUESTION:</font>** Let $v=(3, 2, 6)$ and $W$ is the subspace consisting all vectors with the form $(a, b, b)$. Find the distance from $v$ to $W$."
   ]
  },
  {
   "cell_type": "markdown",
   "metadata": {},
   "source": [
    "Put your answer to the above question here"
   ]
  },
  {
   "cell_type": "markdown",
   "metadata": {},
   "source": [
    "---\n",
    "<a name=\"The_Four_Fundamental_Spaces\"></a>\n",
    "\n",
    "## 2. The Four Fundamental Spaces\n",
    "In the lecture on *Change Basis*, we talked about four subspaces based on a matrix $A$: \n",
    "> *Row space of $A$*: linear combination of all rows of $A$\n",
    "\n",
    "> *Column space of $A$*: linear combination of all columns of $A$\n",
    "\n",
    "> *Null space or kernel of $A$*: all $x$ such that $Ax=0$\n",
    "\n",
    "> *Null space of $A^\\top$*: all $y$ such that $A^\\top y =0$\n",
    "\n",
    "\n",
    "\n",
    "\n",
    "In this course we represent a system of linear equations as $Ax=b$. \n",
    "The matrix $A$ can be viewed as taking a point $x$ in the input space and projecting that point to $b$ in the output space.  \n",
    "\n",
    "\n",
    "It turns out, everything we need to know about $A$ is represented by four fundamental vector spaces.  Two of the four spaces are easily defined as follows:\n",
    "\n",
    "> *Row space of $A$*: linear combination of all rows of $A$\n",
    "\n",
    "> *Column space of $A$*: linear combination of all columns of $A$\n",
    "\n",
    "The other two fundamental spaces are defined by a concept called the *Null Space*. \n",
    "The *Null space* is calculated by finding all the solutions to the homogeneous system $Ax=0$. The final two fundamental spaces are defined as follows:\n",
    "\n",
    "> *Null space or kernel of $A$*: all $x$ such that $Ax=0$\n",
    "\n",
    "> *Null space of $A^\\top$*: all $y$ such that $A^\\top y =0$"
   ]
  },
  {
   "cell_type": "markdown",
   "metadata": {},
   "source": [
    "----\n",
    "\n",
    "<a name=\"Independent_Learning\"></a>\n",
    "## 3. Independent Learning\n",
    "\n",
    "&#9989; **<font color=red>DO THIS:</font>** Find a YouTube video that helps you understand the four fundamental spaces.  \n",
    "\n",
    "&#9989; **<font color=red>QUESTION:</font>** What is the URL for your video? "
   ]
  },
  {
   "cell_type": "markdown",
   "metadata": {},
   "source": [
    "Put your answer to the above question here"
   ]
  },
  {
   "cell_type": "markdown",
   "metadata": {},
   "source": [
    "&#9989; **<font color=red>DO THIS:</font>**  Add the link to the video to the code below. Try embedding the link in the provided Python YouTubeVideo Function by replacing XXXXX with the video ID."
   ]
  },
  {
   "cell_type": "code",
   "execution_count": null,
   "metadata": {},
   "outputs": [],
   "source": [
    "from IPython.display import YouTubeVideo\n",
    "YouTubeVideo(\"XXXXXX\",width=640,height=360, cc_load_policy=1)"
   ]
  },
  {
   "cell_type": "markdown",
   "metadata": {},
   "source": [
    "&#9989; **<font color=red>QUESTION:</font>** What criteria did you use in selecting your video?"
   ]
  },
  {
   "cell_type": "markdown",
   "metadata": {},
   "source": [
    "Put your answer to the above question here"
   ]
  },
  {
   "cell_type": "markdown",
   "metadata": {},
   "source": [
    "&#9989; **<font color=red>QUESTION:</font>** How long into a video did you go before deciding if it was good or bad?"
   ]
  },
  {
   "cell_type": "markdown",
   "metadata": {},
   "source": [
    "Put your answer to the above question here"
   ]
  },
  {
   "cell_type": "markdown",
   "metadata": {},
   "source": [
    "&#9989; **<font color=red>QUESTION:</font>** What did you like about the video you selected."
   ]
  },
  {
   "cell_type": "markdown",
   "metadata": {},
   "source": [
    "Put your answer to the above question here"
   ]
  },
  {
   "cell_type": "markdown",
   "metadata": {},
   "source": [
    "&#9989; **<font color=red>QUESTION:</font>** What didn't you like about the video?"
   ]
  },
  {
   "cell_type": "markdown",
   "metadata": {},
   "source": [
    "Put your answer to the above question here"
   ]
  },
  {
   "cell_type": "markdown",
   "metadata": {},
   "source": [
    "----\n",
    "\n",
    "<a name=\"Assignment_wrap-up\"></a>\n",
    "## 4. Assignment_wrap-up"
   ]
  },
  {
   "cell_type": "markdown",
   "metadata": {},
   "source": [
    "&#9989; **<font color=red>Assignment-Specific QUESTION:</font>** What is the URL for your video for the four Fundamental spaces? "
   ]
  },
  {
   "cell_type": "markdown",
   "metadata": {},
   "source": [
    "Put your answer to the above question here"
   ]
  },
  {
   "cell_type": "markdown",
   "metadata": {},
   "source": [
    "&#9989; **<font color=red>QUESTION:</font>**  Summarize what you did in this assignment."
   ]
  },
  {
   "cell_type": "markdown",
   "metadata": {},
   "source": [
    "Put your answer to the above question here"
   ]
  },
  {
   "cell_type": "markdown",
   "metadata": {},
   "source": [
    "&#9989; **<font color=red>QUESTION:</font>**  What questions do you have, if any, about any of the topics discussed in this assignment after working through the jupyter notebook?"
   ]
  },
  {
   "cell_type": "markdown",
   "metadata": {},
   "source": [
    "Put your answer to the above question here"
   ]
  },
  {
   "cell_type": "markdown",
   "metadata": {},
   "source": [
    "&#9989; **<font color=red>QUESTION:</font>**  How well do you feel this assignment helped you to achieve a better understanding of the above mentioned topic(s)?"
   ]
  },
  {
   "cell_type": "markdown",
   "metadata": {},
   "source": [
    "Put your answer to the above question here"
   ]
  },
  {
   "cell_type": "markdown",
   "metadata": {},
   "source": [
    "&#9989; **<font color=red>QUESTION:</font>** What was the **most** challenging part of this assignment for you? "
   ]
  },
  {
   "cell_type": "markdown",
   "metadata": {},
   "source": [
    "Put your answer to the above question here"
   ]
  },
  {
   "cell_type": "markdown",
   "metadata": {},
   "source": [
    "&#9989; **<font color=red>QUESTION:</font>** What was the **least** challenging part of this assignment for you? "
   ]
  },
  {
   "cell_type": "markdown",
   "metadata": {},
   "source": [
    "Put your answer to the above question here"
   ]
  },
  {
   "cell_type": "markdown",
   "metadata": {},
   "source": [
    "&#9989; **<font color=red>QUESTION:</font>**  What kind of additional questions or support, if any, do you feel you need to have a better understanding of the content in this assignment?"
   ]
  },
  {
   "cell_type": "markdown",
   "metadata": {},
   "source": [
    "Put your answer to the above question here"
   ]
  },
  {
   "cell_type": "markdown",
   "metadata": {},
   "source": [
    "&#9989; **<font color=red>QUESTION:</font>**  Do you have any further questions or comments about this material, or anything else that's going on in class?"
   ]
  },
  {
   "cell_type": "markdown",
   "metadata": {},
   "source": [
    "Put your answer to the above question here"
   ]
  },
  {
   "cell_type": "markdown",
   "metadata": {},
   "source": [
    "&#9989; **<font color=red>QUESTION:</font>** Approximately how long did this pre-class assignment take?"
   ]
  },
  {
   "cell_type": "markdown",
   "metadata": {},
   "source": [
    "Put your answer to the above question here"
   ]
  },
  {
   "cell_type": "markdown",
   "metadata": {},
   "source": [
    "-----\n",
    "\n",
    "Written by Dr. Dirk Colbry, Michigan State University\n",
    "<a rel=\"license\" href=\"http://creativecommons.org/licenses/by-nc/4.0/\"><img alt=\"Creative Commons License\" style=\"border-width:0\" src=\"https://i.creativecommons.org/l/by-nc/4.0/88x31.png\" /></a><br />This work is licensed under a <a rel=\"license\" href=\"http://creativecommons.org/licenses/by-nc/4.0/\">Creative Commons Attribution-NonCommercial 4.0 International License</a>."
   ]
  },
  {
   "cell_type": "code",
   "execution_count": null,
   "metadata": {},
   "outputs": [],
   "source": []
  },
  {
   "cell_type": "markdown",
   "metadata": {},
   "source": [
    "<hr><font color=\"green\"><h1>from file: 14-in</h1></font>"
   ]
  },
  {
   "cell_type": "markdown",
   "metadata": {},
   "source": []
  },
  {
   "cell_type": "markdown",
   "metadata": {},
   "source": []
  },
  {
   "cell_type": "markdown",
   "metadata": {},
   "source": [
    "# 14 In-Class Assignment: Fundamental Spaces\n",
    "\n",
    "<img alt=\"Classic picture of the four fundamental spaces. Please see text for detailed description.\" src=\"https://kevinbinz.files.wordpress.com/2017/02/linear-algebra-fundamental-space-interpretation-6.png\" width=\"100%\">\n",
    "\n",
    "Image from: https://kevinbinz.com/2017/02/20/linear-algebra/\n",
    "\n",
    "    "
   ]
  },
  {
   "cell_type": "markdown",
   "metadata": {},
   "source": [
    "### Agenda for today's class (80 minutes)\n",
    "\n",
    "1. [(20 minutes) Pre-class assignment review](#Pre-class_assignment_review)\n",
    "1. [(20 minutes) Four Fundamental Spaces](#Four_Fundamental_Subspaces)\n",
    "1. [(20 minutes) Practice Example](#Practice_Example)"
   ]
  },
  {
   "cell_type": "markdown",
   "metadata": {},
   "source": [
    "---\n",
    "<a name=\"Pre-class_assignment_review\"></a>\n",
    "\n",
    "## 1. Pre-class assignment review"
   ]
  },
  {
   "cell_type": "markdown",
   "metadata": {},
   "source": [
    "* [14--Fundamental_Spaces_pre-class-assignment.ipynb](14--Fundamental_Spaces_pre-class-assignment.ipynb)"
   ]
  },
  {
   "cell_type": "markdown",
   "metadata": {},
   "source": [
    "---\n",
    "<a name=\"Four_Fundamental_Subspaces\"></a>\n",
    "## 2. Four Fundamental Subspaces"
   ]
  },
  {
   "cell_type": "markdown",
   "metadata": {},
   "source": [
    "### The four fundamental subspaces\n",
    "\n",
    "* Columnspace, $\\mathcal{C}(A)$\n",
    "* Nullspace, $\\mathcal{N}(A)$\n",
    "* Rowspaces, $R(A)$\n",
    "    * All linear combinations of rows\n",
    "    * All the linear combinations of the colums of $A^\\top$, $\\mathcal{C}(A^\\top)$\n",
    "* Nullspace of $A^\\top$, $\\mathcal{N}(A^\\top)$ (the left nullspace of $A$)"
   ]
  },
  {
   "cell_type": "markdown",
   "metadata": {},
   "source": [
    "### Where are these spaces for a $m\\times n$ matrix $A$?\n",
    "* $\\mathcal{R}(A)$ is in $R^n$\n",
    "* $\\mathcal{N}(A)$ is in $R^n$\n",
    "* $\\mathcal{C}(A)$ is in $R^m$\n",
    "* $\\mathcal{N}(A^\\top)$ is in $R^m$"
   ]
  },
  {
   "cell_type": "markdown",
   "metadata": {},
   "source": [
    "### Calculating basis and dimension\n",
    "\n",
    "#### For $\\mathcal{R}(A)$\n",
    "* If $A$ undergoes row reduction to row echelon form $B$, then $\\mathcal{C}(B)\\neq \\mathcal{C}(A)$, but $\\mathcal{R}(B) = \\mathcal{R}(A)$ (or $\\mathcal{C}(B^\\top) = \\mathcal{C}(A^\\top))$\n",
    "* A basis for the rowspace of $A$ (or $B$) is the first $r$ rows of $B$\n",
    "    * So we row reduce $A$ and take the pivot rows and transpose them\n",
    "* The dimension is also equal to the rank $r$\n",
    "\n",
    "#### For $\\mathcal{N}(A)$\n",
    "* The bases are the special solutions (one for every free variable, $n-r$)\n",
    "* The dimension is $n- r$\n",
    "\n",
    "\n",
    "#### For $\\mathcal{C}(A) = \\mathcal{R}(A^\\top)$\n",
    "* Apply the row reduction on the transpose $A^\\top$.\n",
    "* The dimension is the rank $r$\n",
    "\n",
    "\n",
    "#### For $\\mathcal{N}(A^\\top)$\n",
    "* It is also called the left nullspace, because it ends up on the left (as seen below)\n",
    "* Here we have $A^\\top y = 0$\n",
    "    * $y^\\top(A^\\top)^\\top = 0^\\top$\n",
    "    * $y^\\top A = 0^\\top$\n",
    "    * This is (again) the special solutions for $A^\\top$ (after row reduction)\n",
    "* The dimension is $m - r$"
   ]
  },
  {
   "cell_type": "markdown",
   "metadata": {},
   "source": [
    "----\n",
    "\n",
    "<a name=\"Practice_Example\"></a>\n",
    "## 3.  Practice Example:\n",
    "\n",
    "Consider the linear transformation defined by the following matrix $A$.  \n",
    "\n",
    "$$A = \n",
    "\\left[\n",
    "\\begin{matrix}\n",
    "    1 & 2 & 3 & 1  \\\\\n",
    "    1 & 1 & 2 & 1  \\\\\n",
    "    1 & 2 & 3 & 1 \n",
    " \\end{matrix}\n",
    "\\right] \n",
    "$$"
   ]
  },
  {
   "cell_type": "code",
   "execution_count": null,
   "metadata": {},
   "outputs": [],
   "source": [
    "%matplotlib inline\n",
    "import matplotlib.pylab as plt\n",
    "import numpy as np\n",
    "import sympy as sym\n",
    "sym.init_printing()"
   ]
  },
  {
   "cell_type": "markdown",
   "metadata": {},
   "source": [
    "**&#9989;  <font color=red>Question:</font>** What is the reduced row echelon form of $A$?  You can use sympy."
   ]
  },
  {
   "cell_type": "code",
   "execution_count": null,
   "metadata": {},
   "outputs": [],
   "source": [
    "#Put your answer to the above question here."
   ]
  },
  {
   "cell_type": "markdown",
   "metadata": {},
   "source": [
    "**&#9989;  <font color=red>Question:</font>** Now let's calculate the row space of $A$. \n",
    "Note that the row space is defined by a linear combination of the non-zero row vectors in the reduced row echelon matrix:"
   ]
  },
  {
   "cell_type": "markdown",
   "metadata": {},
   "source": [
    "Put your answer to the above question here"
   ]
  },
  {
   "cell_type": "markdown",
   "metadata": {},
   "source": [
    "&#9989;  **<font color=red>Question:</font>** What is the rank of matrix $A$? You should know the rank by inspecting the reduced row echelon form. Find a ```numpy``` or ```sympy``` function that you can use to verify your answer?"
   ]
  },
  {
   "cell_type": "code",
   "execution_count": null,
   "metadata": {},
   "outputs": [],
   "source": [
    "## Put code here to verify your answer."
   ]
  },
  {
   "cell_type": "markdown",
   "metadata": {},
   "source": [
    "&#9989;  **<font color=red>Question:</font>** Using the reduced row echelon form define the leading variables in terms of the free variables for the homogeneous equation. "
   ]
  },
  {
   "cell_type": "markdown",
   "metadata": {},
   "source": [
    "Put your answer to the above question here"
   ]
  },
  {
   "cell_type": "markdown",
   "metadata": {},
   "source": [
    "&#9989;  **<font color=red>Question:</font>** The solution to the above question defines the nullspace of $A$ (aka the Kernel). Use the *sympy.nullspace* function to verify your answer."
   ]
  },
  {
   "cell_type": "code",
   "execution_count": null,
   "metadata": {},
   "outputs": [],
   "source": [
    "# Put your code here"
   ]
  },
  {
   "cell_type": "markdown",
   "metadata": {},
   "source": [
    "&#9989;  **<font color=red> Question:</font>** Now let's calculate the range of $A$ (column space of $A$).  Note that the range is spanned by the column vectors of $A$. \n",
    "Transpose $A$ and calculate the reduced row echelon form of the transposed matrix like we did above."
   ]
  },
  {
   "cell_type": "code",
   "execution_count": null,
   "metadata": {},
   "outputs": [],
   "source": [
    "## Put your code here"
   ]
  },
  {
   "cell_type": "markdown",
   "metadata": {},
   "source": [
    "&#9989;  **<font color=red>Question:</font>** The nonzero row vectors of the above solution will give a basis for the range (or $\\mathcal{C}(A)$). Write the range of $A$ as a linear combination of these nonzero vectors:"
   ]
  },
  {
   "cell_type": "markdown",
   "metadata": {},
   "source": [
    "Put your answer to the above question here."
   ]
  },
  {
   "cell_type": "markdown",
   "metadata": {},
   "source": [
    "&#9989;  **<font color=red>Question:</font>** Finally, using the reduced row echelon form for $A^\\top$ define the leading variables in terms of the free variables and define the null space of $A^\\top$."
   ]
  },
  {
   "cell_type": "markdown",
   "metadata": {},
   "source": [
    "Put your answer to the above question here."
   ]
  },
  {
   "cell_type": "markdown",
   "metadata": {},
   "source": [
    "----\n",
    "Written by Dr. Dirk Colbry, Michigan State University\n",
    "<a rel=\"license\" href=\"http://creativecommons.org/licenses/by-nc/4.0/\"><img alt=\"Creative Commons License\" style=\"border-width:0\" src=\"https://i.creativecommons.org/l/by-nc/4.0/88x31.png\" /></a><br />This work is licensed under a <a rel=\"license\" href=\"http://creativecommons.org/licenses/by-nc/4.0/\">Creative Commons Attribution-NonCommercial 4.0 International License</a>."
   ]
  }
 ],
 "metadata": {
  "kernelspec": {
   "display_name": "Python 3 (ipykernel)",
   "language": "python",
   "name": "python3"
  },
  "language_info": {
   "codemirror_mode": {
    "name": "ipython",
    "version": 3
   },
   "file_extension": ".py",
   "mimetype": "text/x-python",
   "name": "python",
   "nbconvert_exporter": "python",
   "pygments_lexer": "ipython3",
   "version": "3.9.16"
  }
 },
 "nbformat": 4,
 "nbformat_minor": 4
}
